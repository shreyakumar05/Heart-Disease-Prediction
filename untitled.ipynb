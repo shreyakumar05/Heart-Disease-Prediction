{
  "nbformat": 4,
  "nbformat_minor": 0,
  "metadata": {
    "colab": {
      "name": ".ipynb",
      "provenance": [],
      "authorship_tag": "ABX9TyM5vmqbrv7yeS++hT05WMAR",
      "include_colab_link": true
    },
    "kernelspec": {
      "name": "python3",
      "display_name": "Python 3"
    },
    "language_info": {
      "name": "python"
    }
  },
  "cells": [
    {
      "cell_type": "markdown",
      "metadata": {
        "id": "view-in-github",
        "colab_type": "text"
      },
      "source": [
        "<a href=\"https://colab.research.google.com/github/shreyakumar05/Heart-Disease-Prediction/blob/main/untitled.ipynb\" target=\"_parent\"><img src=\"https://colab.research.google.com/assets/colab-badge.svg\" alt=\"Open In Colab\"/></a>"
      ]
    },
    {
      "cell_type": "code",
      "execution_count": 155,
      "metadata": {
        "id": "eLYQx-oBUsp7"
      },
      "outputs": [],
      "source": [
        "#importing libraries\n",
        "\n",
        "import numpy as np\n",
        "import pandas as pd\n",
        "import matplotlib.pyplot as plt\n",
        "import seaborn as sns\n",
        "import plotly.express as px"
      ]
    },
    {
      "cell_type": "code",
      "source": [
        "#reading data\n",
        "\n",
        "df = pd.read_csv('Data Analytics.csv')"
      ],
      "metadata": {
        "id": "YTHkGORiWjRY"
      },
      "execution_count": 192,
      "outputs": []
    },
    {
      "cell_type": "markdown",
      "source": [
        "Understanding the data"
      ],
      "metadata": {
        "id": "qy-XVL3wPEFb"
      }
    },
    {
      "cell_type": "code",
      "source": [
        "df"
      ],
      "metadata": {
        "colab": {
          "base_uri": "https://localhost:8080/",
          "height": 800
        },
        "id": "w-6CMbrMWo03",
        "outputId": "f7df10cd-d125-4b77-b4cf-9f1f464fb20a"
      },
      "execution_count": null,
      "outputs": [
        {
          "output_type": "execute_result",
          "data": {
            "text/plain": [
              "                               Name     Ticker  \\\n",
              "0           Reliance Industries Ltd   RELIANCE   \n",
              "1     Tata Consultancy Services Ltd        TCS   \n",
              "2                     HDFC Bank Ltd   HDFCBANK   \n",
              "3                       Infosys Ltd       INFY   \n",
              "4                    ICICI Bank Ltd  ICICIBANK   \n",
              "...                             ...        ...   \n",
              "1995            Galaxy Bearings Ltd    GALXBRG   \n",
              "1996          Signet Industries Ltd     SIGIND   \n",
              "1997                      Suraj Ltd   SURAJLTD   \n",
              "1998                     Polson Ltd     POLSON   \n",
              "1999                LKP Finance Ltd     LKPFIN   \n",
              "\n",
              "                            Sub-Sector    Market Cap  Close Price   PE Ratio  \\\n",
              "0     Oil & Gas - Refining & Marketing  1.679534e+06      2467.40  34.186904   \n",
              "1             IT Services & Consulting  1.358569e+06      3626.70  41.892356   \n",
              "2                        Private Banks  8.206363e+05      1486.50  25.779258   \n",
              "3             IT Services & Consulting  7.775010e+05      1853.05  40.178853   \n",
              "4                        Private Banks  5.002790e+05       710.75  27.212283   \n",
              "...                                ...           ...          ...        ...   \n",
              "1995                   Heavy Machinery  1.256577e+02       385.05  15.986985   \n",
              "1996                  Plastic Products  1.255488e+02        43.00   8.999914   \n",
              "1997                      Iron & Steel  1.255056e+02        64.95  91.609935   \n",
              "1998               Commodity Chemicals  1.253262e+02     10440.00  14.692403   \n",
              "1999    Investment Banking & Brokerage  1.249950e+02       100.70   2.061602   \n",
              "\n",
              "     Return on Equity Return on Assets  Net Profit Margin  \\\n",
              "0         7.793277014      3.957021119           9.725370   \n",
              "1         37.74067975      25.93238229          19.383065   \n",
              "2         16.43520042      1.883433477          20.420916   \n",
              "3         27.13530492      19.41789465          18.847214   \n",
              "4         12.38289733      1.243332695          11.395012   \n",
              "...               ...              ...                ...   \n",
              "1995      18.97633993      14.78416251          12.419024   \n",
              "1996      7.117710087      2.017514047           1.679812   \n",
              "1997      1.548810129      0.767980268           0.712132   \n",
              "1998      8.487562189      4.800090037           9.212658   \n",
              "1999      30.49952211      24.11838415          62.350884   \n",
              "\n",
              "      5Y Avg EBITDA Margin  ... Net income       PBT  Earnings per share  \\\n",
              "0                17.720494  ...      49128     55461         74.65304891   \n",
              "1                29.072528  ...      32430     43760         87.04362396   \n",
              "2                28.206116  ...    31833.2  42796.14         57.89926843   \n",
              "3                28.656802  ...      19351     26628           45.607423   \n",
              "4                11.900543  ...   18384.31  26028.33         27.46121761   \n",
              "...                    ...  ...        ...       ...                 ...   \n",
              "1995             16.395699  ...       7.86     10.54         24.71698113   \n",
              "1996              7.751415  ...      13.95     11.69         4.738933995   \n",
              "1997              9.181438  ...       1.37      1.92         0.711167405   \n",
              "1998             21.724728  ...       8.53      9.14         710.8333333   \n",
              "1999             13.740886  ...      60.63     69.53         48.23917465   \n",
              "\n",
              "         EBITDA  Long term investments  Reserves and surplus  \\\n",
              "0     103222.00              212382.00             579376.00   \n",
              "1      48462.00                 213.00              86063.00   \n",
              "2      44181.15              438823.11             148746.23   \n",
              "3      30090.00               11863.00              73627.00   \n",
              "4      27368.40              536578.62             107231.52   \n",
              "...         ...                    ...                   ...   \n",
              "1995      12.27                   0.00                 42.18   \n",
              "1996      65.98                   0.14                144.17   \n",
              "1997      17.65                   0.00                 47.98   \n",
              "1998      19.62                   0.99                103.96   \n",
              "1999      69.56                 204.91                236.96   \n",
              "\n",
              "      Cash and equivalent  Book value  Free cash flow  Operating cash flow  \n",
              "0               169843.00   799432.00       -79652.00             26185.00  \n",
              "1                38489.00    87108.00        35727.00             38802.00  \n",
              "2               121272.52   210442.95        40780.31             42476.46  \n",
              "3                27056.00    76782.00        21117.00             23224.00  \n",
              "4               147570.54   167175.84       136327.09            138015.30  \n",
              "...                   ...         ...             ...                  ...  \n",
              "1995                 7.65       45.36            1.31                 6.76  \n",
              "1996                20.66      202.67           -8.33                 6.96  \n",
              "1997                 0.42       89.14           30.05                32.51  \n",
              "1998                 6.63      104.77           13.20                22.41  \n",
              "1999                29.74      253.23          -13.07               -13.03  \n",
              "\n",
              "[2000 rows x 44 columns]"
            ],
            "text/html": [
              "\n",
              "  <div id=\"df-236ed6be-b3e0-4cbb-b285-2bfbac3bd255\">\n",
              "    <div class=\"colab-df-container\">\n",
              "      <div>\n",
              "<style scoped>\n",
              "    .dataframe tbody tr th:only-of-type {\n",
              "        vertical-align: middle;\n",
              "    }\n",
              "\n",
              "    .dataframe tbody tr th {\n",
              "        vertical-align: top;\n",
              "    }\n",
              "\n",
              "    .dataframe thead th {\n",
              "        text-align: right;\n",
              "    }\n",
              "</style>\n",
              "<table border=\"1\" class=\"dataframe\">\n",
              "  <thead>\n",
              "    <tr style=\"text-align: right;\">\n",
              "      <th></th>\n",
              "      <th>Name</th>\n",
              "      <th>Ticker</th>\n",
              "      <th>Sub-Sector</th>\n",
              "      <th>Market Cap</th>\n",
              "      <th>Close Price</th>\n",
              "      <th>PE Ratio</th>\n",
              "      <th>Return on Equity</th>\n",
              "      <th>Return on Assets</th>\n",
              "      <th>Net Profit Margin</th>\n",
              "      <th>5Y Avg EBITDA Margin</th>\n",
              "      <th>...</th>\n",
              "      <th>Net income</th>\n",
              "      <th>PBT</th>\n",
              "      <th>Earnings per share</th>\n",
              "      <th>EBITDA</th>\n",
              "      <th>Long term investments</th>\n",
              "      <th>Reserves and surplus</th>\n",
              "      <th>Cash and equivalent</th>\n",
              "      <th>Book value</th>\n",
              "      <th>Free cash flow</th>\n",
              "      <th>Operating cash flow</th>\n",
              "    </tr>\n",
              "  </thead>\n",
              "  <tbody>\n",
              "    <tr>\n",
              "      <th>0</th>\n",
              "      <td>Reliance Industries Ltd</td>\n",
              "      <td>RELIANCE</td>\n",
              "      <td>Oil &amp; Gas - Refining &amp; Marketing</td>\n",
              "      <td>1.679534e+06</td>\n",
              "      <td>2467.40</td>\n",
              "      <td>34.186904</td>\n",
              "      <td>7.793277014</td>\n",
              "      <td>3.957021119</td>\n",
              "      <td>9.725370</td>\n",
              "      <td>17.720494</td>\n",
              "      <td>...</td>\n",
              "      <td>49128</td>\n",
              "      <td>55461</td>\n",
              "      <td>74.65304891</td>\n",
              "      <td>103222.00</td>\n",
              "      <td>212382.00</td>\n",
              "      <td>579376.00</td>\n",
              "      <td>169843.00</td>\n",
              "      <td>799432.00</td>\n",
              "      <td>-79652.00</td>\n",
              "      <td>26185.00</td>\n",
              "    </tr>\n",
              "    <tr>\n",
              "      <th>1</th>\n",
              "      <td>Tata Consultancy Services Ltd</td>\n",
              "      <td>TCS</td>\n",
              "      <td>IT Services &amp; Consulting</td>\n",
              "      <td>1.358569e+06</td>\n",
              "      <td>3626.70</td>\n",
              "      <td>41.892356</td>\n",
              "      <td>37.74067975</td>\n",
              "      <td>25.93238229</td>\n",
              "      <td>19.383065</td>\n",
              "      <td>29.072528</td>\n",
              "      <td>...</td>\n",
              "      <td>32430</td>\n",
              "      <td>43760</td>\n",
              "      <td>87.04362396</td>\n",
              "      <td>48462.00</td>\n",
              "      <td>213.00</td>\n",
              "      <td>86063.00</td>\n",
              "      <td>38489.00</td>\n",
              "      <td>87108.00</td>\n",
              "      <td>35727.00</td>\n",
              "      <td>38802.00</td>\n",
              "    </tr>\n",
              "    <tr>\n",
              "      <th>2</th>\n",
              "      <td>HDFC Bank Ltd</td>\n",
              "      <td>HDFCBANK</td>\n",
              "      <td>Private Banks</td>\n",
              "      <td>8.206363e+05</td>\n",
              "      <td>1486.50</td>\n",
              "      <td>25.779258</td>\n",
              "      <td>16.43520042</td>\n",
              "      <td>1.883433477</td>\n",
              "      <td>20.420916</td>\n",
              "      <td>28.206116</td>\n",
              "      <td>...</td>\n",
              "      <td>31833.2</td>\n",
              "      <td>42796.14</td>\n",
              "      <td>57.89926843</td>\n",
              "      <td>44181.15</td>\n",
              "      <td>438823.11</td>\n",
              "      <td>148746.23</td>\n",
              "      <td>121272.52</td>\n",
              "      <td>210442.95</td>\n",
              "      <td>40780.31</td>\n",
              "      <td>42476.46</td>\n",
              "    </tr>\n",
              "    <tr>\n",
              "      <th>3</th>\n",
              "      <td>Infosys Ltd</td>\n",
              "      <td>INFY</td>\n",
              "      <td>IT Services &amp; Consulting</td>\n",
              "      <td>7.775010e+05</td>\n",
              "      <td>1853.05</td>\n",
              "      <td>40.178853</td>\n",
              "      <td>27.13530492</td>\n",
              "      <td>19.41789465</td>\n",
              "      <td>18.847214</td>\n",
              "      <td>28.656802</td>\n",
              "      <td>...</td>\n",
              "      <td>19351</td>\n",
              "      <td>26628</td>\n",
              "      <td>45.607423</td>\n",
              "      <td>30090.00</td>\n",
              "      <td>11863.00</td>\n",
              "      <td>73627.00</td>\n",
              "      <td>27056.00</td>\n",
              "      <td>76782.00</td>\n",
              "      <td>21117.00</td>\n",
              "      <td>23224.00</td>\n",
              "    </tr>\n",
              "    <tr>\n",
              "      <th>4</th>\n",
              "      <td>ICICI Bank Ltd</td>\n",
              "      <td>ICICIBANK</td>\n",
              "      <td>Private Banks</td>\n",
              "      <td>5.002790e+05</td>\n",
              "      <td>710.75</td>\n",
              "      <td>27.212283</td>\n",
              "      <td>12.38289733</td>\n",
              "      <td>1.243332695</td>\n",
              "      <td>11.395012</td>\n",
              "      <td>11.900543</td>\n",
              "      <td>...</td>\n",
              "      <td>18384.31</td>\n",
              "      <td>26028.33</td>\n",
              "      <td>27.46121761</td>\n",
              "      <td>27368.40</td>\n",
              "      <td>536578.62</td>\n",
              "      <td>107231.52</td>\n",
              "      <td>147570.54</td>\n",
              "      <td>167175.84</td>\n",
              "      <td>136327.09</td>\n",
              "      <td>138015.30</td>\n",
              "    </tr>\n",
              "    <tr>\n",
              "      <th>...</th>\n",
              "      <td>...</td>\n",
              "      <td>...</td>\n",
              "      <td>...</td>\n",
              "      <td>...</td>\n",
              "      <td>...</td>\n",
              "      <td>...</td>\n",
              "      <td>...</td>\n",
              "      <td>...</td>\n",
              "      <td>...</td>\n",
              "      <td>...</td>\n",
              "      <td>...</td>\n",
              "      <td>...</td>\n",
              "      <td>...</td>\n",
              "      <td>...</td>\n",
              "      <td>...</td>\n",
              "      <td>...</td>\n",
              "      <td>...</td>\n",
              "      <td>...</td>\n",
              "      <td>...</td>\n",
              "      <td>...</td>\n",
              "      <td>...</td>\n",
              "    </tr>\n",
              "    <tr>\n",
              "      <th>1995</th>\n",
              "      <td>Galaxy Bearings Ltd</td>\n",
              "      <td>GALXBRG</td>\n",
              "      <td>Heavy Machinery</td>\n",
              "      <td>1.256577e+02</td>\n",
              "      <td>385.05</td>\n",
              "      <td>15.986985</td>\n",
              "      <td>18.97633993</td>\n",
              "      <td>14.78416251</td>\n",
              "      <td>12.419024</td>\n",
              "      <td>16.395699</td>\n",
              "      <td>...</td>\n",
              "      <td>7.86</td>\n",
              "      <td>10.54</td>\n",
              "      <td>24.71698113</td>\n",
              "      <td>12.27</td>\n",
              "      <td>0.00</td>\n",
              "      <td>42.18</td>\n",
              "      <td>7.65</td>\n",
              "      <td>45.36</td>\n",
              "      <td>1.31</td>\n",
              "      <td>6.76</td>\n",
              "    </tr>\n",
              "    <tr>\n",
              "      <th>1996</th>\n",
              "      <td>Signet Industries Ltd</td>\n",
              "      <td>SIGIND</td>\n",
              "      <td>Plastic Products</td>\n",
              "      <td>1.255488e+02</td>\n",
              "      <td>43.00</td>\n",
              "      <td>8.999914</td>\n",
              "      <td>7.117710087</td>\n",
              "      <td>2.017514047</td>\n",
              "      <td>1.679812</td>\n",
              "      <td>7.751415</td>\n",
              "      <td>...</td>\n",
              "      <td>13.95</td>\n",
              "      <td>11.69</td>\n",
              "      <td>4.738933995</td>\n",
              "      <td>65.98</td>\n",
              "      <td>0.14</td>\n",
              "      <td>144.17</td>\n",
              "      <td>20.66</td>\n",
              "      <td>202.67</td>\n",
              "      <td>-8.33</td>\n",
              "      <td>6.96</td>\n",
              "    </tr>\n",
              "    <tr>\n",
              "      <th>1997</th>\n",
              "      <td>Suraj Ltd</td>\n",
              "      <td>SURAJLTD</td>\n",
              "      <td>Iron &amp; Steel</td>\n",
              "      <td>1.255056e+02</td>\n",
              "      <td>64.95</td>\n",
              "      <td>91.609935</td>\n",
              "      <td>1.548810129</td>\n",
              "      <td>0.767980268</td>\n",
              "      <td>0.712132</td>\n",
              "      <td>9.181438</td>\n",
              "      <td>...</td>\n",
              "      <td>1.37</td>\n",
              "      <td>1.92</td>\n",
              "      <td>0.711167405</td>\n",
              "      <td>17.65</td>\n",
              "      <td>0.00</td>\n",
              "      <td>47.98</td>\n",
              "      <td>0.42</td>\n",
              "      <td>89.14</td>\n",
              "      <td>30.05</td>\n",
              "      <td>32.51</td>\n",
              "    </tr>\n",
              "    <tr>\n",
              "      <th>1998</th>\n",
              "      <td>Polson Ltd</td>\n",
              "      <td>POLSON</td>\n",
              "      <td>Commodity Chemicals</td>\n",
              "      <td>1.253262e+02</td>\n",
              "      <td>10440.00</td>\n",
              "      <td>14.692403</td>\n",
              "      <td>8.487562189</td>\n",
              "      <td>4.800090037</td>\n",
              "      <td>9.212658</td>\n",
              "      <td>21.724728</td>\n",
              "      <td>...</td>\n",
              "      <td>8.53</td>\n",
              "      <td>9.14</td>\n",
              "      <td>710.8333333</td>\n",
              "      <td>19.62</td>\n",
              "      <td>0.99</td>\n",
              "      <td>103.96</td>\n",
              "      <td>6.63</td>\n",
              "      <td>104.77</td>\n",
              "      <td>13.20</td>\n",
              "      <td>22.41</td>\n",
              "    </tr>\n",
              "    <tr>\n",
              "      <th>1999</th>\n",
              "      <td>LKP Finance Ltd</td>\n",
              "      <td>LKPFIN</td>\n",
              "      <td>Investment Banking &amp; Brokerage</td>\n",
              "      <td>1.249950e+02</td>\n",
              "      <td>100.70</td>\n",
              "      <td>2.061602</td>\n",
              "      <td>30.49952211</td>\n",
              "      <td>24.11838415</td>\n",
              "      <td>62.350884</td>\n",
              "      <td>13.740886</td>\n",
              "      <td>...</td>\n",
              "      <td>60.63</td>\n",
              "      <td>69.53</td>\n",
              "      <td>48.23917465</td>\n",
              "      <td>69.56</td>\n",
              "      <td>204.91</td>\n",
              "      <td>236.96</td>\n",
              "      <td>29.74</td>\n",
              "      <td>253.23</td>\n",
              "      <td>-13.07</td>\n",
              "      <td>-13.03</td>\n",
              "    </tr>\n",
              "  </tbody>\n",
              "</table>\n",
              "<p>2000 rows × 44 columns</p>\n",
              "</div>\n",
              "      <button class=\"colab-df-convert\" onclick=\"convertToInteractive('df-236ed6be-b3e0-4cbb-b285-2bfbac3bd255')\"\n",
              "              title=\"Convert this dataframe to an interactive table.\"\n",
              "              style=\"display:none;\">\n",
              "        \n",
              "  <svg xmlns=\"http://www.w3.org/2000/svg\" height=\"24px\"viewBox=\"0 0 24 24\"\n",
              "       width=\"24px\">\n",
              "    <path d=\"M0 0h24v24H0V0z\" fill=\"none\"/>\n",
              "    <path d=\"M18.56 5.44l.94 2.06.94-2.06 2.06-.94-2.06-.94-.94-2.06-.94 2.06-2.06.94zm-11 1L8.5 8.5l.94-2.06 2.06-.94-2.06-.94L8.5 2.5l-.94 2.06-2.06.94zm10 10l.94 2.06.94-2.06 2.06-.94-2.06-.94-.94-2.06-.94 2.06-2.06.94z\"/><path d=\"M17.41 7.96l-1.37-1.37c-.4-.4-.92-.59-1.43-.59-.52 0-1.04.2-1.43.59L10.3 9.45l-7.72 7.72c-.78.78-.78 2.05 0 2.83L4 21.41c.39.39.9.59 1.41.59.51 0 1.02-.2 1.41-.59l7.78-7.78 2.81-2.81c.8-.78.8-2.07 0-2.86zM5.41 20L4 18.59l7.72-7.72 1.47 1.35L5.41 20z\"/>\n",
              "  </svg>\n",
              "      </button>\n",
              "      \n",
              "  <style>\n",
              "    .colab-df-container {\n",
              "      display:flex;\n",
              "      flex-wrap:wrap;\n",
              "      gap: 12px;\n",
              "    }\n",
              "\n",
              "    .colab-df-convert {\n",
              "      background-color: #E8F0FE;\n",
              "      border: none;\n",
              "      border-radius: 50%;\n",
              "      cursor: pointer;\n",
              "      display: none;\n",
              "      fill: #1967D2;\n",
              "      height: 32px;\n",
              "      padding: 0 0 0 0;\n",
              "      width: 32px;\n",
              "    }\n",
              "\n",
              "    .colab-df-convert:hover {\n",
              "      background-color: #E2EBFA;\n",
              "      box-shadow: 0px 1px 2px rgba(60, 64, 67, 0.3), 0px 1px 3px 1px rgba(60, 64, 67, 0.15);\n",
              "      fill: #174EA6;\n",
              "    }\n",
              "\n",
              "    [theme=dark] .colab-df-convert {\n",
              "      background-color: #3B4455;\n",
              "      fill: #D2E3FC;\n",
              "    }\n",
              "\n",
              "    [theme=dark] .colab-df-convert:hover {\n",
              "      background-color: #434B5C;\n",
              "      box-shadow: 0px 1px 3px 1px rgba(0, 0, 0, 0.15);\n",
              "      filter: drop-shadow(0px 1px 2px rgba(0, 0, 0, 0.3));\n",
              "      fill: #FFFFFF;\n",
              "    }\n",
              "  </style>\n",
              "\n",
              "      <script>\n",
              "        const buttonEl =\n",
              "          document.querySelector('#df-236ed6be-b3e0-4cbb-b285-2bfbac3bd255 button.colab-df-convert');\n",
              "        buttonEl.style.display =\n",
              "          google.colab.kernel.accessAllowed ? 'block' : 'none';\n",
              "\n",
              "        async function convertToInteractive(key) {\n",
              "          const element = document.querySelector('#df-236ed6be-b3e0-4cbb-b285-2bfbac3bd255');\n",
              "          const dataTable =\n",
              "            await google.colab.kernel.invokeFunction('convertToInteractive',\n",
              "                                                     [key], {});\n",
              "          if (!dataTable) return;\n",
              "\n",
              "          const docLinkHtml = 'Like what you see? Visit the ' +\n",
              "            '<a target=\"_blank\" href=https://colab.research.google.com/notebooks/data_table.ipynb>data table notebook</a>'\n",
              "            + ' to learn more about interactive tables.';\n",
              "          element.innerHTML = '';\n",
              "          dataTable['output_type'] = 'display_data';\n",
              "          await google.colab.output.renderOutput(dataTable, element);\n",
              "          const docLink = document.createElement('div');\n",
              "          docLink.innerHTML = docLinkHtml;\n",
              "          element.appendChild(docLink);\n",
              "        }\n",
              "      </script>\n",
              "    </div>\n",
              "  </div>\n",
              "  "
            ]
          },
          "metadata": {},
          "execution_count": 48
        }
      ]
    },
    {
      "cell_type": "code",
      "source": [
        "df.shape"
      ],
      "metadata": {
        "colab": {
          "base_uri": "https://localhost:8080/"
        },
        "id": "TKk2Ii96XTnF",
        "outputId": "dbf16866-c73c-4ef7-b64b-c859758c6d78"
      },
      "execution_count": null,
      "outputs": [
        {
          "output_type": "execute_result",
          "data": {
            "text/plain": [
              "(2000, 44)"
            ]
          },
          "metadata": {},
          "execution_count": 105
        }
      ]
    },
    {
      "cell_type": "code",
      "source": [
        "df.info(1)"
      ],
      "metadata": {
        "colab": {
          "base_uri": "https://localhost:8080/"
        },
        "id": "b4dK1tPwXasd",
        "outputId": "1358fc1b-3595-44ca-e783-7615ed89d776"
      },
      "execution_count": null,
      "outputs": [
        {
          "output_type": "stream",
          "name": "stdout",
          "text": [
            "<class 'pandas.core.frame.DataFrame'>\n",
            "RangeIndex: 2000 entries, 0 to 1999\n",
            "Data columns (total 44 columns):\n",
            " #   Column                          Non-Null Count  Dtype  \n",
            "---  ------                          --------------  -----  \n",
            " 0   Name                            2000 non-null   object \n",
            " 1   Ticker                          2000 non-null   object \n",
            " 2   Sub-Sector                      1947 non-null   object \n",
            " 3   Market Cap                      2000 non-null   float64\n",
            " 4   Close Price                     2000 non-null   float64\n",
            " 5   PE Ratio                        1957 non-null   float64\n",
            " 6   Return on Equity                1870 non-null   object \n",
            " 7   Return on Assets                1952 non-null   object \n",
            " 8   Net Profit Margin               1953 non-null   float64\n",
            " 9   5Y Avg EBITDA Margin            1880 non-null   float64\n",
            " 10  EBITDA Margin                   1953 non-null   object \n",
            " 11  1Y Return vs Nifty              2000 non-null   float64\n",
            " 12  5Y CAGR                         1593 non-null   float64\n",
            " 13  Debt to Equity                  1835 non-null   float64\n",
            " 14  Long Term Debt to Equity        1833 non-null   float64\n",
            " 15  Net income/liabilities          1557 non-null   float64\n",
            " 16  5Y HISTORICAL REVENUE GROWTH    1871 non-null   float64\n",
            " 17  5Y HISTORICAL EBITDA GROWTH     1624 non-null   float64\n",
            " 18  5Y HIST OP'S cash flow growth   1273 non-null   float64\n",
            " 19  5Y Historical EPS growth        1329 non-null   float64\n",
            " 20  Forward PE ratio                531 non-null    float64\n",
            " 21  Enterprise Value                1999 non-null   float64\n",
            " 22  PB Ratio                        1954 non-null   float64\n",
            " 23  Divident yield                  1098 non-null   float64\n",
            " 24  BE premium vs sector            1957 non-null   float64\n",
            " 25  Domestic Institutional holding  1960 non-null   float64\n",
            " 26  Mutual fund holding             1960 non-null   float64\n",
            " 27  Promoter holding                1960 non-null   float64\n",
            " 28  Foreign institutional holding   1960 non-null   float64\n",
            " 29  Retail investor holding         1959 non-null   float64\n",
            " 30  Pledged promoter holding        1960 non-null   float64\n",
            " 31  Insurance forms holding         1960 non-null   float64\n",
            " 32  Number of shareholders          1950 non-null   float64\n",
            " 33  Total revenue                   1959 non-null   float64\n",
            " 34  Net income                      1959 non-null   object \n",
            " 35  PBT                             1959 non-null   object \n",
            " 36  Earnings per share              1959 non-null   object \n",
            " 37  EBITDA                          1959 non-null   float64\n",
            " 38  Long term investments           1954 non-null   float64\n",
            " 39  Reserves and surplus            1954 non-null   float64\n",
            " 40  Cash and equivalent             1954 non-null   float64\n",
            " 41  Book value                      1953 non-null   float64\n",
            " 42  Free cash flow                  1954 non-null   float64\n",
            " 43  Operating cash flow             1954 non-null   float64\n",
            "dtypes: float64(35), object(9)\n",
            "memory usage: 687.6+ KB\n"
          ]
        }
      ]
    },
    {
      "cell_type": "markdown",
      "source": [
        "Cleaning the null values from the dataset"
      ],
      "metadata": {
        "id": "X_jC7p_KPHPS"
      }
    },
    {
      "cell_type": "code",
      "source": [
        "df.isnull().sum().sort_values(ascending=False)"
      ],
      "metadata": {
        "colab": {
          "base_uri": "https://localhost:8080/",
          "height": 0
        },
        "id": "2kv1sSs-TFfk",
        "outputId": "0ba6dcc8-4434-4553-eac6-7a3005b80f15"
      },
      "execution_count": 175,
      "outputs": [
        {
          "output_type": "execute_result",
          "data": {
            "text/plain": [
              "Forward PE ratio                  1469\n",
              "Divident yield                     902\n",
              "5Y HIST OP'S cash flow growth      727\n",
              "5Y Historical EPS growth           671\n",
              "Net income/liabilities             443\n",
              "5Y CAGR                            407\n",
              "5Y HISTORICAL EBITDA GROWTH        376\n",
              "Long Term Debt to Equity           167\n",
              "Debt to Equity                     165\n",
              "Return on Equity                   130\n",
              "5Y HISTORICAL REVENUE GROWTH       129\n",
              "5Y Avg EBITDA Margin               120\n",
              "Sub-Sector                          53\n",
              "Number of shareholders              50\n",
              "Return on Assets                    48\n",
              "EBITDA Margin                       47\n",
              "Net Profit Margin                   47\n",
              "Book value                          47\n",
              "Long term investments               46\n",
              "PB Ratio                            46\n",
              "Cash and equivalent                 46\n",
              "Free cash flow                      46\n",
              "Reserves and surplus                46\n",
              "Operating cash flow                 46\n",
              "BE premium vs sector                43\n",
              "PE Ratio                            43\n",
              "Total revenue                       41\n",
              "EBITDA                              41\n",
              "Earnings per share                  41\n",
              "PBT                                 41\n",
              "Net income                          41\n",
              "Retail investor holding             41\n",
              "Insurance forms holding             40\n",
              "Pledged promoter holding            40\n",
              "Domestic Institutional holding      40\n",
              "Foreign institutional holding       40\n",
              "Promoter holding                    40\n",
              "Mutual fund holding                 40\n",
              "Enterprise Value                     1\n",
              "Ticker                               0\n",
              "1Y Return vs Nifty                   0\n",
              "Close Price                          0\n",
              "Market Cap                           0\n",
              "Name                                 0\n",
              "dtype: int64"
            ]
          },
          "metadata": {},
          "execution_count": 175
        }
      ]
    },
    {
      "cell_type": "code",
      "source": [
        "df.dropna(axis=0, inplace=True)"
      ],
      "metadata": {
        "id": "15bL6j6fbdtT"
      },
      "execution_count": 193,
      "outputs": []
    },
    {
      "cell_type": "markdown",
      "source": [
        "Task 1 : Screen the companies and visualise them according to sub-sectors using a pie chart or a bar charts. \n",
        "\n",
        "Explanation : I have used bar charts to represent the companies against their sub-sectors. I have taken random data sample of 10 companies and shown the graph."
      ],
      "metadata": {
        "id": "RIepJeacPtnJ"
      }
    },
    {
      "cell_type": "code",
      "source": [
        "fig = px.histogram(df.sample(10), x=\"Name\", color=\"Sub-Sector\", marginal=\"box\", hover_data=df.columns)\n",
        "fig.show()"
      ],
      "metadata": {
        "colab": {
          "base_uri": "https://localhost:8080/",
          "height": 542
        },
        "id": "8GFMEJFzBXgv",
        "outputId": "37be9f51-b000-4bd7-b4ab-679f518afa84"
      },
      "execution_count": 196,
      "outputs": [
        {
          "output_type": "display_data",
          "data": {
            "text/html": [
              "<html>\n",
              "<head><meta charset=\"utf-8\" /></head>\n",
              "<body>\n",
              "    <div>            <script src=\"https://cdnjs.cloudflare.com/ajax/libs/mathjax/2.7.5/MathJax.js?config=TeX-AMS-MML_SVG\"></script><script type=\"text/javascript\">if (window.MathJax) {MathJax.Hub.Config({SVG: {font: \"STIX-Web\"}});}</script>                <script type=\"text/javascript\">window.PlotlyConfig = {MathJaxConfig: 'local'};</script>\n",
              "        <script src=\"https://cdn.plot.ly/plotly-2.8.3.min.js\"></script>                <div id=\"693b22fb-cb95-460c-99cc-0bafe364a537\" class=\"plotly-graph-div\" style=\"height:525px; width:100%;\"></div>            <script type=\"text/javascript\">                                    window.PLOTLYENV=window.PLOTLYENV || {};                                    if (document.getElementById(\"693b22fb-cb95-460c-99cc-0bafe364a537\")) {                    Plotly.newPlot(                        \"693b22fb-cb95-460c-99cc-0bafe364a537\",                        [{\"alignmentgroup\":\"True\",\"bingroup\":\"x\",\"hovertemplate\":\"Sub-Sector=Fertilizers & Agro Chemicals<br>Name=%{x}<br>count=%{y}<extra></extra>\",\"legendgroup\":\"Fertilizers & Agro Chemicals\",\"marker\":{\"color\":\"#636efa\",\"pattern\":{\"shape\":\"\"}},\"name\":\"Fertilizers & Agro Chemicals\",\"offsetgroup\":\"Fertilizers & Agro Chemicals\",\"orientation\":\"v\",\"showlegend\":true,\"x\":[\"Rallis India Ltd\"],\"xaxis\":\"x\",\"yaxis\":\"y\",\"type\":\"histogram\"},{\"alignmentgroup\":\"True\",\"customdata\":[[\"RALLIS\",\"Fertilizers & Agro Chemicals\",4843.247705,250.25,21.18934114,\"15.22967444\",\"9.075478103\",9.218985698,16.29532562,\"15.09877629\",-17.32235575,-0.269535017,4.750893816,1.842927068,22.9227884,9.943996138,8.783726354,-1.357696859,9.772616343,24.67799276,4584.117705,3.043215921,1.204589782,-13.0205137,16.40445112,12.71214177,50.09367308,6.031140508,11.97913455,0.0,3.424184711,112073.0,2479.34,\"228.57\",\"303.51\",\"11.75343004\",374.35,3.18,1483.41,335.43,1591.49,48.3,216.79]],\"hovertemplate\":\"Sub-Sector=%{customdata[1]}<br>Name=%{x}<br>Ticker=%{customdata[0]}<br>Market Cap=%{customdata[2]}<br>Close Price=%{customdata[3]}<br>PE Ratio=%{customdata[4]}<br>Return on Equity=%{customdata[5]}<br>Return on Assets=%{customdata[6]}<br>Net Profit Margin=%{customdata[7]}<br>5Y Avg EBITDA Margin=%{customdata[8]}<br>EBITDA Margin=%{customdata[9]}<br>1Y Return vs Nifty=%{customdata[10]}<br>5Y CAGR=%{customdata[11]}<br>Debt to Equity=%{customdata[12]}<br>Long Term Debt to Equity=%{customdata[13]}<br>Net income/liabilities=%{customdata[14]}<br>5Y HISTORICAL REVENUE GROWTH=%{customdata[15]}<br>5Y HISTORICAL EBITDA GROWTH=%{customdata[16]}<br>5Y HIST OP'S cash flow growth=%{customdata[17]}<br>5Y Historical EPS growth=%{customdata[18]}<br>Forward PE ratio=%{customdata[19]}<br>Enterprise Value=%{customdata[20]}<br>PB Ratio=%{customdata[21]}<br>Divident yield=%{customdata[22]}<br>BE premium vs sector=%{customdata[23]}<br>Domestic Institutional holding=%{customdata[24]}<br>Mutual fund holding=%{customdata[25]}<br>Promoter holding=%{customdata[26]}<br>Foreign institutional holding=%{customdata[27]}<br>Retail investor holding=%{customdata[28]}<br>Pledged promoter holding=%{customdata[29]}<br>Insurance forms holding=%{customdata[30]}<br>Number of shareholders=%{customdata[31]}<br>Total revenue=%{customdata[32]}<br>Net income=%{customdata[33]}<br>PBT=%{customdata[34]}<br>Earnings per share=%{customdata[35]}<br>EBITDA=%{customdata[36]}<br>Long term investments=%{customdata[37]}<br>Reserves and surplus=%{customdata[38]}<br>Cash and equivalent=%{customdata[39]}<br>Book value=%{customdata[40]}<br>Free cash flow=%{customdata[41]}<br>Operating cash flow=%{customdata[42]}<extra></extra>\",\"legendgroup\":\"Fertilizers & Agro Chemicals\",\"marker\":{\"color\":\"#636efa\"},\"name\":\"Fertilizers & Agro Chemicals\",\"notched\":true,\"offsetgroup\":\"Fertilizers & Agro Chemicals\",\"showlegend\":false,\"x\":[\"Rallis India Ltd\"],\"xaxis\":\"x2\",\"yaxis\":\"y2\",\"type\":\"box\"},{\"alignmentgroup\":\"True\",\"bingroup\":\"x\",\"hovertemplate\":\"Sub-Sector=Power Transmission & Distribution<br>Name=%{x}<br>count=%{y}<extra></extra>\",\"legendgroup\":\"Power Transmission & Distribution\",\"marker\":{\"color\":\"#EF553B\",\"pattern\":{\"shape\":\"\"}},\"name\":\"Power Transmission & Distribution\",\"offsetgroup\":\"Power Transmission & Distribution\",\"orientation\":\"v\",\"showlegend\":true,\"x\":[\"Tata Power Company Ltd\"],\"xaxis\":\"x\",\"yaxis\":\"y\",\"type\":\"histogram\"},{\"alignmentgroup\":\"True\",\"customdata\":[[\"TATAPOWER\",\"Power Transmission & Distribution\",74051.994,227.95,65.68503433,\"4.782341081\",\"1.197168202\",3.278051697,27.29336566,\"25.28471201\",102.7682667,21.06470141,184.986273,131.4379736,1.535570806,1.438663965,7.120445322,2.666794403,9.312216832,35.01207224,117075.294,2.932803344,0.669170011,124.3349524,15.57838977,4.483958399,46.85754183,10.83786902,22.38264765,0.658204541,10.83268742,3165134.0,34391.77,\"1127.38\",\"1940.53\",\"3.819673481\",8695.86,12649.51,12303.96,6612.22,25249.56,5122.22,8458.01]],\"hovertemplate\":\"Sub-Sector=%{customdata[1]}<br>Name=%{x}<br>Ticker=%{customdata[0]}<br>Market Cap=%{customdata[2]}<br>Close Price=%{customdata[3]}<br>PE Ratio=%{customdata[4]}<br>Return on Equity=%{customdata[5]}<br>Return on Assets=%{customdata[6]}<br>Net Profit Margin=%{customdata[7]}<br>5Y Avg EBITDA Margin=%{customdata[8]}<br>EBITDA Margin=%{customdata[9]}<br>1Y Return vs Nifty=%{customdata[10]}<br>5Y CAGR=%{customdata[11]}<br>Debt to Equity=%{customdata[12]}<br>Long Term Debt to Equity=%{customdata[13]}<br>Net income/liabilities=%{customdata[14]}<br>5Y HISTORICAL REVENUE GROWTH=%{customdata[15]}<br>5Y HISTORICAL EBITDA GROWTH=%{customdata[16]}<br>5Y HIST OP'S cash flow growth=%{customdata[17]}<br>5Y Historical EPS growth=%{customdata[18]}<br>Forward PE ratio=%{customdata[19]}<br>Enterprise Value=%{customdata[20]}<br>PB Ratio=%{customdata[21]}<br>Divident yield=%{customdata[22]}<br>BE premium vs sector=%{customdata[23]}<br>Domestic Institutional holding=%{customdata[24]}<br>Mutual fund holding=%{customdata[25]}<br>Promoter holding=%{customdata[26]}<br>Foreign institutional holding=%{customdata[27]}<br>Retail investor holding=%{customdata[28]}<br>Pledged promoter holding=%{customdata[29]}<br>Insurance forms holding=%{customdata[30]}<br>Number of shareholders=%{customdata[31]}<br>Total revenue=%{customdata[32]}<br>Net income=%{customdata[33]}<br>PBT=%{customdata[34]}<br>Earnings per share=%{customdata[35]}<br>EBITDA=%{customdata[36]}<br>Long term investments=%{customdata[37]}<br>Reserves and surplus=%{customdata[38]}<br>Cash and equivalent=%{customdata[39]}<br>Book value=%{customdata[40]}<br>Free cash flow=%{customdata[41]}<br>Operating cash flow=%{customdata[42]}<extra></extra>\",\"legendgroup\":\"Power Transmission & Distribution\",\"marker\":{\"color\":\"#EF553B\"},\"name\":\"Power Transmission & Distribution\",\"notched\":true,\"offsetgroup\":\"Power Transmission & Distribution\",\"showlegend\":false,\"x\":[\"Tata Power Company Ltd\"],\"xaxis\":\"x2\",\"yaxis\":\"y2\",\"type\":\"box\"},{\"alignmentgroup\":\"True\",\"bingroup\":\"x\",\"hovertemplate\":\"Sub-Sector=Industrial Machinery<br>Name=%{x}<br>count=%{y}<extra></extra>\",\"legendgroup\":\"Industrial Machinery\",\"marker\":{\"color\":\"#00cc96\",\"pattern\":{\"shape\":\"\"}},\"name\":\"Industrial Machinery\",\"offsetgroup\":\"Industrial Machinery\",\"orientation\":\"v\",\"showlegend\":true,\"x\":[\"Timken India Ltd\"],\"xaxis\":\"x\",\"yaxis\":\"y\",\"type\":\"histogram\"},{\"alignmentgroup\":\"True\",\"customdata\":[[\"TIMKEN\",\"Industrial Machinery\",16538.71914,2224.6,115.5180494,\"9.805526353\",\"7.400993554\",10.01104802,18.21732053,\"18.97533074\",61.80520254,29.21799385,2.631167613,0.127278546,26.27117089,6.240049548,10.45732562,13.21619963,7.103857424,61.28726882,16399.85914,12.31008265,0.06822058,92.43424262,13.86647773,12.66667689,67.80224193,2.656021836,8.040665774,0.0,0.990801042,53619.0,1430.12,\"143.17\",\"195.05\",\"19.03382208\",271.37,0.03,733.42,174.21,1343.51,110.43,188.71]],\"hovertemplate\":\"Sub-Sector=%{customdata[1]}<br>Name=%{x}<br>Ticker=%{customdata[0]}<br>Market Cap=%{customdata[2]}<br>Close Price=%{customdata[3]}<br>PE Ratio=%{customdata[4]}<br>Return on Equity=%{customdata[5]}<br>Return on Assets=%{customdata[6]}<br>Net Profit Margin=%{customdata[7]}<br>5Y Avg EBITDA Margin=%{customdata[8]}<br>EBITDA Margin=%{customdata[9]}<br>1Y Return vs Nifty=%{customdata[10]}<br>5Y CAGR=%{customdata[11]}<br>Debt to Equity=%{customdata[12]}<br>Long Term Debt to Equity=%{customdata[13]}<br>Net income/liabilities=%{customdata[14]}<br>5Y HISTORICAL REVENUE GROWTH=%{customdata[15]}<br>5Y HISTORICAL EBITDA GROWTH=%{customdata[16]}<br>5Y HIST OP'S cash flow growth=%{customdata[17]}<br>5Y Historical EPS growth=%{customdata[18]}<br>Forward PE ratio=%{customdata[19]}<br>Enterprise Value=%{customdata[20]}<br>PB Ratio=%{customdata[21]}<br>Divident yield=%{customdata[22]}<br>BE premium vs sector=%{customdata[23]}<br>Domestic Institutional holding=%{customdata[24]}<br>Mutual fund holding=%{customdata[25]}<br>Promoter holding=%{customdata[26]}<br>Foreign institutional holding=%{customdata[27]}<br>Retail investor holding=%{customdata[28]}<br>Pledged promoter holding=%{customdata[29]}<br>Insurance forms holding=%{customdata[30]}<br>Number of shareholders=%{customdata[31]}<br>Total revenue=%{customdata[32]}<br>Net income=%{customdata[33]}<br>PBT=%{customdata[34]}<br>Earnings per share=%{customdata[35]}<br>EBITDA=%{customdata[36]}<br>Long term investments=%{customdata[37]}<br>Reserves and surplus=%{customdata[38]}<br>Cash and equivalent=%{customdata[39]}<br>Book value=%{customdata[40]}<br>Free cash flow=%{customdata[41]}<br>Operating cash flow=%{customdata[42]}<extra></extra>\",\"legendgroup\":\"Industrial Machinery\",\"marker\":{\"color\":\"#00cc96\"},\"name\":\"Industrial Machinery\",\"notched\":true,\"offsetgroup\":\"Industrial Machinery\",\"showlegend\":false,\"x\":[\"Timken India Ltd\"],\"xaxis\":\"x2\",\"yaxis\":\"y2\",\"type\":\"box\"},{\"alignmentgroup\":\"True\",\"bingroup\":\"x\",\"hovertemplate\":\"Sub-Sector=FMCG - Foods<br>Name=%{x}<br>count=%{y}<extra></extra>\",\"legendgroup\":\"FMCG - Foods\",\"marker\":{\"color\":\"#ab63fa\",\"pattern\":{\"shape\":\"\"}},\"name\":\"FMCG - Foods\",\"offsetgroup\":\"FMCG - Foods\",\"orientation\":\"v\",\"showlegend\":true,\"x\":[\"Parag Milk Foods Ltd\"],\"xaxis\":\"x\",\"yaxis\":\"y\",\"type\":\"histogram\"},{\"alignmentgroup\":\"True\",\"customdata\":[[\"PARAGMILK\",\"FMCG - Foods\",956.2822522,103.0,46.19721025,\"2.250856304\",\"1.227565062\",1.115740566,8.241043886,\"7.453901588\",-11.26414644,-14.05488374,41.05630616,3.58997565,2.743938811,2.413189076,-1.579676292,11.22535179,-20.9682523,14.43332884,1318.692252,1.030321128,0.438879666,4.741612994,8.015118839,0.0,40.74557518,11.45224607,17.48745471,0.0,0.0,56093.0,1855.27,\"20.7\",\"40.72\",\"2.466089277\",138.29,0.82,399.41,18.65,928.14,55.59,99.95]],\"hovertemplate\":\"Sub-Sector=%{customdata[1]}<br>Name=%{x}<br>Ticker=%{customdata[0]}<br>Market Cap=%{customdata[2]}<br>Close Price=%{customdata[3]}<br>PE Ratio=%{customdata[4]}<br>Return on Equity=%{customdata[5]}<br>Return on Assets=%{customdata[6]}<br>Net Profit Margin=%{customdata[7]}<br>5Y Avg EBITDA Margin=%{customdata[8]}<br>EBITDA Margin=%{customdata[9]}<br>1Y Return vs Nifty=%{customdata[10]}<br>5Y CAGR=%{customdata[11]}<br>Debt to Equity=%{customdata[12]}<br>Long Term Debt to Equity=%{customdata[13]}<br>Net income/liabilities=%{customdata[14]}<br>5Y HISTORICAL REVENUE GROWTH=%{customdata[15]}<br>5Y HISTORICAL EBITDA GROWTH=%{customdata[16]}<br>5Y HIST OP'S cash flow growth=%{customdata[17]}<br>5Y Historical EPS growth=%{customdata[18]}<br>Forward PE ratio=%{customdata[19]}<br>Enterprise Value=%{customdata[20]}<br>PB Ratio=%{customdata[21]}<br>Divident yield=%{customdata[22]}<br>BE premium vs sector=%{customdata[23]}<br>Domestic Institutional holding=%{customdata[24]}<br>Mutual fund holding=%{customdata[25]}<br>Promoter holding=%{customdata[26]}<br>Foreign institutional holding=%{customdata[27]}<br>Retail investor holding=%{customdata[28]}<br>Pledged promoter holding=%{customdata[29]}<br>Insurance forms holding=%{customdata[30]}<br>Number of shareholders=%{customdata[31]}<br>Total revenue=%{customdata[32]}<br>Net income=%{customdata[33]}<br>PBT=%{customdata[34]}<br>Earnings per share=%{customdata[35]}<br>EBITDA=%{customdata[36]}<br>Long term investments=%{customdata[37]}<br>Reserves and surplus=%{customdata[38]}<br>Cash and equivalent=%{customdata[39]}<br>Book value=%{customdata[40]}<br>Free cash flow=%{customdata[41]}<br>Operating cash flow=%{customdata[42]}<extra></extra>\",\"legendgroup\":\"FMCG - Foods\",\"marker\":{\"color\":\"#ab63fa\"},\"name\":\"FMCG - Foods\",\"notched\":true,\"offsetgroup\":\"FMCG - Foods\",\"showlegend\":false,\"x\":[\"Parag Milk Foods Ltd\"],\"xaxis\":\"x2\",\"yaxis\":\"y2\",\"type\":\"box\"},{\"alignmentgroup\":\"True\",\"bingroup\":\"x\",\"hovertemplate\":\"Sub-Sector=Commodity Chemicals<br>Name=%{x}<br>count=%{y}<extra></extra>\",\"legendgroup\":\"Commodity Chemicals\",\"marker\":{\"color\":\"#FFA15A\",\"pattern\":{\"shape\":\"\"}},\"name\":\"Commodity Chemicals\",\"offsetgroup\":\"Commodity Chemicals\",\"orientation\":\"v\",\"showlegend\":true,\"x\":[\"Solar Industries India Ltd\"],\"xaxis\":\"x\",\"yaxis\":\"y\",\"type\":\"histogram\"},{\"alignmentgroup\":\"True\",\"customdata\":[[\"SOLARINDS\",\"Commodity Chemicals\",23408.41988,2674.45,84.70569885,\"17.98158571\",\"10.15953428\",10.89257208,21.14840464,\"21.12768767\",90.96612873,29.53425669,47.8740637,26.38146276,20.97819816,11.65651138,11.04204541,7.952938936,11.0461189,57.63562119,24076.04988,14.25517318,0.231942324,247.7058641,15.43391813,15.17167052,73.14756412,6.367550556,3.654871245,0.0,0.187400704,33496.0,2537.05,\"276.35\",\"397.1\",\"30.53926755\",536.02,0.97,1412.18,181.2,1642.1,91.72,356.68]],\"hovertemplate\":\"Sub-Sector=%{customdata[1]}<br>Name=%{x}<br>Ticker=%{customdata[0]}<br>Market Cap=%{customdata[2]}<br>Close Price=%{customdata[3]}<br>PE Ratio=%{customdata[4]}<br>Return on Equity=%{customdata[5]}<br>Return on Assets=%{customdata[6]}<br>Net Profit Margin=%{customdata[7]}<br>5Y Avg EBITDA Margin=%{customdata[8]}<br>EBITDA Margin=%{customdata[9]}<br>1Y Return vs Nifty=%{customdata[10]}<br>5Y CAGR=%{customdata[11]}<br>Debt to Equity=%{customdata[12]}<br>Long Term Debt to Equity=%{customdata[13]}<br>Net income/liabilities=%{customdata[14]}<br>5Y HISTORICAL REVENUE GROWTH=%{customdata[15]}<br>5Y HISTORICAL EBITDA GROWTH=%{customdata[16]}<br>5Y HIST OP'S cash flow growth=%{customdata[17]}<br>5Y Historical EPS growth=%{customdata[18]}<br>Forward PE ratio=%{customdata[19]}<br>Enterprise Value=%{customdata[20]}<br>PB Ratio=%{customdata[21]}<br>Divident yield=%{customdata[22]}<br>BE premium vs sector=%{customdata[23]}<br>Domestic Institutional holding=%{customdata[24]}<br>Mutual fund holding=%{customdata[25]}<br>Promoter holding=%{customdata[26]}<br>Foreign institutional holding=%{customdata[27]}<br>Retail investor holding=%{customdata[28]}<br>Pledged promoter holding=%{customdata[29]}<br>Insurance forms holding=%{customdata[30]}<br>Number of shareholders=%{customdata[31]}<br>Total revenue=%{customdata[32]}<br>Net income=%{customdata[33]}<br>PBT=%{customdata[34]}<br>Earnings per share=%{customdata[35]}<br>EBITDA=%{customdata[36]}<br>Long term investments=%{customdata[37]}<br>Reserves and surplus=%{customdata[38]}<br>Cash and equivalent=%{customdata[39]}<br>Book value=%{customdata[40]}<br>Free cash flow=%{customdata[41]}<br>Operating cash flow=%{customdata[42]}<extra></extra>\",\"legendgroup\":\"Commodity Chemicals\",\"marker\":{\"color\":\"#FFA15A\"},\"name\":\"Commodity Chemicals\",\"notched\":true,\"offsetgroup\":\"Commodity Chemicals\",\"showlegend\":false,\"x\":[\"Solar Industries India Ltd\"],\"xaxis\":\"x2\",\"yaxis\":\"y2\",\"type\":\"box\"},{\"alignmentgroup\":\"True\",\"bingroup\":\"x\",\"hovertemplate\":\"Sub-Sector=Hospitals & Diagnostic Centres<br>Name=%{x}<br>count=%{y}<extra></extra>\",\"legendgroup\":\"Hospitals & Diagnostic Centres\",\"marker\":{\"color\":\"#19d3f3\",\"pattern\":{\"shape\":\"\"}},\"name\":\"Hospitals & Diagnostic Centres\",\"offsetgroup\":\"Hospitals & Diagnostic Centres\",\"orientation\":\"v\",\"showlegend\":true,\"x\":[\"Thyrocare Technologies Ltd\"],\"xaxis\":\"x\",\"yaxis\":\"y\",\"type\":\"histogram\"},{\"alignmentgroup\":\"True\",\"customdata\":[[\"THYROCARE\",\"Hospitals & Diagnostic Centres\",4127.754078,772.85,36.48037188,\"28.5041314\",\"22.40039594\",22.31535352,38.16244543,\"36.21339118\",-25.16987387,1.779772877,1.98703396,1.275540057,99.14133006,15.4228005,12.79063326,11.34592414,16.59220113,21.99899417,4016.024078,9.660762699,3.202187558,-0.780208843,6.706120136,4.550972328,71.17905541,12.02255276,6.598826327,71.17905541,1.815203247,65769.0,507.05,\"113.15\",\"152.47\",\"21.40876464\",183.62,21.1,304.69,120.22,427.27,87.78,116.04]],\"hovertemplate\":\"Sub-Sector=%{customdata[1]}<br>Name=%{x}<br>Ticker=%{customdata[0]}<br>Market Cap=%{customdata[2]}<br>Close Price=%{customdata[3]}<br>PE Ratio=%{customdata[4]}<br>Return on Equity=%{customdata[5]}<br>Return on Assets=%{customdata[6]}<br>Net Profit Margin=%{customdata[7]}<br>5Y Avg EBITDA Margin=%{customdata[8]}<br>EBITDA Margin=%{customdata[9]}<br>1Y Return vs Nifty=%{customdata[10]}<br>5Y CAGR=%{customdata[11]}<br>Debt to Equity=%{customdata[12]}<br>Long Term Debt to Equity=%{customdata[13]}<br>Net income/liabilities=%{customdata[14]}<br>5Y HISTORICAL REVENUE GROWTH=%{customdata[15]}<br>5Y HISTORICAL EBITDA GROWTH=%{customdata[16]}<br>5Y HIST OP'S cash flow growth=%{customdata[17]}<br>5Y Historical EPS growth=%{customdata[18]}<br>Forward PE ratio=%{customdata[19]}<br>Enterprise Value=%{customdata[20]}<br>PB Ratio=%{customdata[21]}<br>Divident yield=%{customdata[22]}<br>BE premium vs sector=%{customdata[23]}<br>Domestic Institutional holding=%{customdata[24]}<br>Mutual fund holding=%{customdata[25]}<br>Promoter holding=%{customdata[26]}<br>Foreign institutional holding=%{customdata[27]}<br>Retail investor holding=%{customdata[28]}<br>Pledged promoter holding=%{customdata[29]}<br>Insurance forms holding=%{customdata[30]}<br>Number of shareholders=%{customdata[31]}<br>Total revenue=%{customdata[32]}<br>Net income=%{customdata[33]}<br>PBT=%{customdata[34]}<br>Earnings per share=%{customdata[35]}<br>EBITDA=%{customdata[36]}<br>Long term investments=%{customdata[37]}<br>Reserves and surplus=%{customdata[38]}<br>Cash and equivalent=%{customdata[39]}<br>Book value=%{customdata[40]}<br>Free cash flow=%{customdata[41]}<br>Operating cash flow=%{customdata[42]}<extra></extra>\",\"legendgroup\":\"Hospitals & Diagnostic Centres\",\"marker\":{\"color\":\"#19d3f3\"},\"name\":\"Hospitals & Diagnostic Centres\",\"notched\":true,\"offsetgroup\":\"Hospitals & Diagnostic Centres\",\"showlegend\":false,\"x\":[\"Thyrocare Technologies Ltd\"],\"xaxis\":\"x2\",\"yaxis\":\"y2\",\"type\":\"box\"},{\"alignmentgroup\":\"True\",\"bingroup\":\"x\",\"hovertemplate\":\"Sub-Sector=Cement<br>Name=%{x}<br>count=%{y}<extra></extra>\",\"legendgroup\":\"Cement\",\"marker\":{\"color\":\"#FF6692\",\"pattern\":{\"shape\":\"\"}},\"name\":\"Cement\",\"offsetgroup\":\"Cement\",\"orientation\":\"v\",\"showlegend\":true,\"x\":[\"UltraTech Cement Ltd\",\"J K Cement Ltd\",\"ACC Ltd\"],\"xaxis\":\"x\",\"yaxis\":\"y\",\"type\":\"histogram\"},{\"alignmentgroup\":\"True\",\"customdata\":[[\"ULTRACEMCO\",\"Cement\",183864.2992,6191.25,33.65567154,\"13.12745339\",\"6.606318054\",11.97915319,22.14860331,\"26.72166203\",-23.30423765,9.087367133,46.3729844,30.6662004,13.00863536,12.22685255,17.83245231,22.53749364,15.95183053,28.80724197,191456.3692,4.161671221,0.580872729,38.15214932,15.14656539,10.11682065,59.95985686,15.74255107,5.470168781,0.0,4.919261303,331319.0,45605.06,\"5463.1\",\"8000.55\",\"189.2708622\",12186.43,1284.24,38416.36,12901.42,44180.4,10575.37,12502.95],[\"JKCEMENT\",\"Cement\",19432.96513,2452.15,27.38155743,\"21.12719452\",\"7.708361505\",10.56265395,20.27245767,\"24.58130242\",-26.75259328,22.58777833,97.70602153,85.3565866,11.51945229,8.743882222,22.61373736,22.35017838,61.84511723,26.2496475,21710.20513,5.236556291,0.596421471,12.39772787,19.77618725,18.7434979,51.50425367,17.76317417,3.081119307,0.0,0.767999783,77461.0,6719.05,\"709.71\",\"1092.67\",\"91.85014425\",1651.63,43.97,2902.68,1322.92,3711.02,822.44,1590.25],[\"ACC\",\"Cement\",39860.66338,2055.75,21.39606943,\"11.79563946\",\"8.09469946\",11.38049228,16.73000541,\"19.31383143\",1.038000102,7.78604929,0.661136465,0.661136465,33.88573008,8.03529541,14.98177359,8.785157188,23.1899949,20.17761549,33942.18338,3.138049307,2.738021851,-12.17192102,19.15945439,8.853652124,54.52719123,13.76325507,8.501470624,0.0,0.000266259,122347.0,16370.03,\"1862.99\",\"2506.38\",\"99.21\",3161.68,129.27,11666.11,6005.7,12702.37,1470.66,2219.19]],\"hovertemplate\":\"Sub-Sector=%{customdata[1]}<br>Name=%{x}<br>Ticker=%{customdata[0]}<br>Market Cap=%{customdata[2]}<br>Close Price=%{customdata[3]}<br>PE Ratio=%{customdata[4]}<br>Return on Equity=%{customdata[5]}<br>Return on Assets=%{customdata[6]}<br>Net Profit Margin=%{customdata[7]}<br>5Y Avg EBITDA Margin=%{customdata[8]}<br>EBITDA Margin=%{customdata[9]}<br>1Y Return vs Nifty=%{customdata[10]}<br>5Y CAGR=%{customdata[11]}<br>Debt to Equity=%{customdata[12]}<br>Long Term Debt to Equity=%{customdata[13]}<br>Net income/liabilities=%{customdata[14]}<br>5Y HISTORICAL REVENUE GROWTH=%{customdata[15]}<br>5Y HISTORICAL EBITDA GROWTH=%{customdata[16]}<br>5Y HIST OP'S cash flow growth=%{customdata[17]}<br>5Y Historical EPS growth=%{customdata[18]}<br>Forward PE ratio=%{customdata[19]}<br>Enterprise Value=%{customdata[20]}<br>PB Ratio=%{customdata[21]}<br>Divident yield=%{customdata[22]}<br>BE premium vs sector=%{customdata[23]}<br>Domestic Institutional holding=%{customdata[24]}<br>Mutual fund holding=%{customdata[25]}<br>Promoter holding=%{customdata[26]}<br>Foreign institutional holding=%{customdata[27]}<br>Retail investor holding=%{customdata[28]}<br>Pledged promoter holding=%{customdata[29]}<br>Insurance forms holding=%{customdata[30]}<br>Number of shareholders=%{customdata[31]}<br>Total revenue=%{customdata[32]}<br>Net income=%{customdata[33]}<br>PBT=%{customdata[34]}<br>Earnings per share=%{customdata[35]}<br>EBITDA=%{customdata[36]}<br>Long term investments=%{customdata[37]}<br>Reserves and surplus=%{customdata[38]}<br>Cash and equivalent=%{customdata[39]}<br>Book value=%{customdata[40]}<br>Free cash flow=%{customdata[41]}<br>Operating cash flow=%{customdata[42]}<extra></extra>\",\"legendgroup\":\"Cement\",\"marker\":{\"color\":\"#FF6692\"},\"name\":\"Cement\",\"notched\":true,\"offsetgroup\":\"Cement\",\"showlegend\":false,\"x\":[\"UltraTech Cement Ltd\",\"J K Cement Ltd\",\"ACC Ltd\"],\"xaxis\":\"x2\",\"yaxis\":\"y2\",\"type\":\"box\"},{\"alignmentgroup\":\"True\",\"bingroup\":\"x\",\"hovertemplate\":\"Sub-Sector=Home Electronics & Appliances<br>Name=%{x}<br>count=%{y}<extra></extra>\",\"legendgroup\":\"Home Electronics & Appliances\",\"marker\":{\"color\":\"#B6E880\",\"pattern\":{\"shape\":\"\"}},\"name\":\"Home Electronics & Appliances\",\"offsetgroup\":\"Home Electronics & Appliances\",\"orientation\":\"v\",\"showlegend\":true,\"x\":[\"Symphony Ltd\"],\"xaxis\":\"x\",\"yaxis\":\"y\",\"type\":\"histogram\"},{\"alignmentgroup\":\"True\",\"customdata\":[[\"SYMPHONY\",\"Home Electronics & Appliances\",7772.92227,1122.45,72.4140327,\"15.253876\",\"9.423394318\",11.52656673,23.87823012,\"17.67643142\",-26.61059131,-4.894151217,28.63781548,21.69468007,23.85545382,14.22557608,-0.5861131,0.029622517,-1.939022935,63.3529846,7632.81227,10.17504748,0.4500045,105.9868481,10.02322855,9.535954944,73.25033949,4.30926998,6.306885658,0.0,0.229723973,58352.0,931.24,\"107.34\",\"131.14\",\"15.34371114\",164.61,159.33,745.23,363.58,763.92,68.99,88.66]],\"hovertemplate\":\"Sub-Sector=%{customdata[1]}<br>Name=%{x}<br>Ticker=%{customdata[0]}<br>Market Cap=%{customdata[2]}<br>Close Price=%{customdata[3]}<br>PE Ratio=%{customdata[4]}<br>Return on Equity=%{customdata[5]}<br>Return on Assets=%{customdata[6]}<br>Net Profit Margin=%{customdata[7]}<br>5Y Avg EBITDA Margin=%{customdata[8]}<br>EBITDA Margin=%{customdata[9]}<br>1Y Return vs Nifty=%{customdata[10]}<br>5Y CAGR=%{customdata[11]}<br>Debt to Equity=%{customdata[12]}<br>Long Term Debt to Equity=%{customdata[13]}<br>Net income/liabilities=%{customdata[14]}<br>5Y HISTORICAL REVENUE GROWTH=%{customdata[15]}<br>5Y HISTORICAL EBITDA GROWTH=%{customdata[16]}<br>5Y HIST OP'S cash flow growth=%{customdata[17]}<br>5Y Historical EPS growth=%{customdata[18]}<br>Forward PE ratio=%{customdata[19]}<br>Enterprise Value=%{customdata[20]}<br>PB Ratio=%{customdata[21]}<br>Divident yield=%{customdata[22]}<br>BE premium vs sector=%{customdata[23]}<br>Domestic Institutional holding=%{customdata[24]}<br>Mutual fund holding=%{customdata[25]}<br>Promoter holding=%{customdata[26]}<br>Foreign institutional holding=%{customdata[27]}<br>Retail investor holding=%{customdata[28]}<br>Pledged promoter holding=%{customdata[29]}<br>Insurance forms holding=%{customdata[30]}<br>Number of shareholders=%{customdata[31]}<br>Total revenue=%{customdata[32]}<br>Net income=%{customdata[33]}<br>PBT=%{customdata[34]}<br>Earnings per share=%{customdata[35]}<br>EBITDA=%{customdata[36]}<br>Long term investments=%{customdata[37]}<br>Reserves and surplus=%{customdata[38]}<br>Cash and equivalent=%{customdata[39]}<br>Book value=%{customdata[40]}<br>Free cash flow=%{customdata[41]}<br>Operating cash flow=%{customdata[42]}<extra></extra>\",\"legendgroup\":\"Home Electronics & Appliances\",\"marker\":{\"color\":\"#B6E880\"},\"name\":\"Home Electronics & Appliances\",\"notched\":true,\"offsetgroup\":\"Home Electronics & Appliances\",\"showlegend\":false,\"x\":[\"Symphony Ltd\"],\"xaxis\":\"x2\",\"yaxis\":\"y2\",\"type\":\"box\"}],                        {\"template\":{\"data\":{\"bar\":[{\"error_x\":{\"color\":\"#2a3f5f\"},\"error_y\":{\"color\":\"#2a3f5f\"},\"marker\":{\"line\":{\"color\":\"#E5ECF6\",\"width\":0.5},\"pattern\":{\"fillmode\":\"overlay\",\"size\":10,\"solidity\":0.2}},\"type\":\"bar\"}],\"barpolar\":[{\"marker\":{\"line\":{\"color\":\"#E5ECF6\",\"width\":0.5},\"pattern\":{\"fillmode\":\"overlay\",\"size\":10,\"solidity\":0.2}},\"type\":\"barpolar\"}],\"carpet\":[{\"aaxis\":{\"endlinecolor\":\"#2a3f5f\",\"gridcolor\":\"white\",\"linecolor\":\"white\",\"minorgridcolor\":\"white\",\"startlinecolor\":\"#2a3f5f\"},\"baxis\":{\"endlinecolor\":\"#2a3f5f\",\"gridcolor\":\"white\",\"linecolor\":\"white\",\"minorgridcolor\":\"white\",\"startlinecolor\":\"#2a3f5f\"},\"type\":\"carpet\"}],\"choropleth\":[{\"colorbar\":{\"outlinewidth\":0,\"ticks\":\"\"},\"type\":\"choropleth\"}],\"contour\":[{\"colorbar\":{\"outlinewidth\":0,\"ticks\":\"\"},\"colorscale\":[[0.0,\"#0d0887\"],[0.1111111111111111,\"#46039f\"],[0.2222222222222222,\"#7201a8\"],[0.3333333333333333,\"#9c179e\"],[0.4444444444444444,\"#bd3786\"],[0.5555555555555556,\"#d8576b\"],[0.6666666666666666,\"#ed7953\"],[0.7777777777777778,\"#fb9f3a\"],[0.8888888888888888,\"#fdca26\"],[1.0,\"#f0f921\"]],\"type\":\"contour\"}],\"contourcarpet\":[{\"colorbar\":{\"outlinewidth\":0,\"ticks\":\"\"},\"type\":\"contourcarpet\"}],\"heatmap\":[{\"colorbar\":{\"outlinewidth\":0,\"ticks\":\"\"},\"colorscale\":[[0.0,\"#0d0887\"],[0.1111111111111111,\"#46039f\"],[0.2222222222222222,\"#7201a8\"],[0.3333333333333333,\"#9c179e\"],[0.4444444444444444,\"#bd3786\"],[0.5555555555555556,\"#d8576b\"],[0.6666666666666666,\"#ed7953\"],[0.7777777777777778,\"#fb9f3a\"],[0.8888888888888888,\"#fdca26\"],[1.0,\"#f0f921\"]],\"type\":\"heatmap\"}],\"heatmapgl\":[{\"colorbar\":{\"outlinewidth\":0,\"ticks\":\"\"},\"colorscale\":[[0.0,\"#0d0887\"],[0.1111111111111111,\"#46039f\"],[0.2222222222222222,\"#7201a8\"],[0.3333333333333333,\"#9c179e\"],[0.4444444444444444,\"#bd3786\"],[0.5555555555555556,\"#d8576b\"],[0.6666666666666666,\"#ed7953\"],[0.7777777777777778,\"#fb9f3a\"],[0.8888888888888888,\"#fdca26\"],[1.0,\"#f0f921\"]],\"type\":\"heatmapgl\"}],\"histogram\":[{\"marker\":{\"pattern\":{\"fillmode\":\"overlay\",\"size\":10,\"solidity\":0.2}},\"type\":\"histogram\"}],\"histogram2d\":[{\"colorbar\":{\"outlinewidth\":0,\"ticks\":\"\"},\"colorscale\":[[0.0,\"#0d0887\"],[0.1111111111111111,\"#46039f\"],[0.2222222222222222,\"#7201a8\"],[0.3333333333333333,\"#9c179e\"],[0.4444444444444444,\"#bd3786\"],[0.5555555555555556,\"#d8576b\"],[0.6666666666666666,\"#ed7953\"],[0.7777777777777778,\"#fb9f3a\"],[0.8888888888888888,\"#fdca26\"],[1.0,\"#f0f921\"]],\"type\":\"histogram2d\"}],\"histogram2dcontour\":[{\"colorbar\":{\"outlinewidth\":0,\"ticks\":\"\"},\"colorscale\":[[0.0,\"#0d0887\"],[0.1111111111111111,\"#46039f\"],[0.2222222222222222,\"#7201a8\"],[0.3333333333333333,\"#9c179e\"],[0.4444444444444444,\"#bd3786\"],[0.5555555555555556,\"#d8576b\"],[0.6666666666666666,\"#ed7953\"],[0.7777777777777778,\"#fb9f3a\"],[0.8888888888888888,\"#fdca26\"],[1.0,\"#f0f921\"]],\"type\":\"histogram2dcontour\"}],\"mesh3d\":[{\"colorbar\":{\"outlinewidth\":0,\"ticks\":\"\"},\"type\":\"mesh3d\"}],\"parcoords\":[{\"line\":{\"colorbar\":{\"outlinewidth\":0,\"ticks\":\"\"}},\"type\":\"parcoords\"}],\"pie\":[{\"automargin\":true,\"type\":\"pie\"}],\"scatter\":[{\"marker\":{\"colorbar\":{\"outlinewidth\":0,\"ticks\":\"\"}},\"type\":\"scatter\"}],\"scatter3d\":[{\"line\":{\"colorbar\":{\"outlinewidth\":0,\"ticks\":\"\"}},\"marker\":{\"colorbar\":{\"outlinewidth\":0,\"ticks\":\"\"}},\"type\":\"scatter3d\"}],\"scattercarpet\":[{\"marker\":{\"colorbar\":{\"outlinewidth\":0,\"ticks\":\"\"}},\"type\":\"scattercarpet\"}],\"scattergeo\":[{\"marker\":{\"colorbar\":{\"outlinewidth\":0,\"ticks\":\"\"}},\"type\":\"scattergeo\"}],\"scattergl\":[{\"marker\":{\"colorbar\":{\"outlinewidth\":0,\"ticks\":\"\"}},\"type\":\"scattergl\"}],\"scattermapbox\":[{\"marker\":{\"colorbar\":{\"outlinewidth\":0,\"ticks\":\"\"}},\"type\":\"scattermapbox\"}],\"scatterpolar\":[{\"marker\":{\"colorbar\":{\"outlinewidth\":0,\"ticks\":\"\"}},\"type\":\"scatterpolar\"}],\"scatterpolargl\":[{\"marker\":{\"colorbar\":{\"outlinewidth\":0,\"ticks\":\"\"}},\"type\":\"scatterpolargl\"}],\"scatterternary\":[{\"marker\":{\"colorbar\":{\"outlinewidth\":0,\"ticks\":\"\"}},\"type\":\"scatterternary\"}],\"surface\":[{\"colorbar\":{\"outlinewidth\":0,\"ticks\":\"\"},\"colorscale\":[[0.0,\"#0d0887\"],[0.1111111111111111,\"#46039f\"],[0.2222222222222222,\"#7201a8\"],[0.3333333333333333,\"#9c179e\"],[0.4444444444444444,\"#bd3786\"],[0.5555555555555556,\"#d8576b\"],[0.6666666666666666,\"#ed7953\"],[0.7777777777777778,\"#fb9f3a\"],[0.8888888888888888,\"#fdca26\"],[1.0,\"#f0f921\"]],\"type\":\"surface\"}],\"table\":[{\"cells\":{\"fill\":{\"color\":\"#EBF0F8\"},\"line\":{\"color\":\"white\"}},\"header\":{\"fill\":{\"color\":\"#C8D4E3\"},\"line\":{\"color\":\"white\"}},\"type\":\"table\"}]},\"layout\":{\"annotationdefaults\":{\"arrowcolor\":\"#2a3f5f\",\"arrowhead\":0,\"arrowwidth\":1},\"autotypenumbers\":\"strict\",\"coloraxis\":{\"colorbar\":{\"outlinewidth\":0,\"ticks\":\"\"}},\"colorscale\":{\"diverging\":[[0,\"#8e0152\"],[0.1,\"#c51b7d\"],[0.2,\"#de77ae\"],[0.3,\"#f1b6da\"],[0.4,\"#fde0ef\"],[0.5,\"#f7f7f7\"],[0.6,\"#e6f5d0\"],[0.7,\"#b8e186\"],[0.8,\"#7fbc41\"],[0.9,\"#4d9221\"],[1,\"#276419\"]],\"sequential\":[[0.0,\"#0d0887\"],[0.1111111111111111,\"#46039f\"],[0.2222222222222222,\"#7201a8\"],[0.3333333333333333,\"#9c179e\"],[0.4444444444444444,\"#bd3786\"],[0.5555555555555556,\"#d8576b\"],[0.6666666666666666,\"#ed7953\"],[0.7777777777777778,\"#fb9f3a\"],[0.8888888888888888,\"#fdca26\"],[1.0,\"#f0f921\"]],\"sequentialminus\":[[0.0,\"#0d0887\"],[0.1111111111111111,\"#46039f\"],[0.2222222222222222,\"#7201a8\"],[0.3333333333333333,\"#9c179e\"],[0.4444444444444444,\"#bd3786\"],[0.5555555555555556,\"#d8576b\"],[0.6666666666666666,\"#ed7953\"],[0.7777777777777778,\"#fb9f3a\"],[0.8888888888888888,\"#fdca26\"],[1.0,\"#f0f921\"]]},\"colorway\":[\"#636efa\",\"#EF553B\",\"#00cc96\",\"#ab63fa\",\"#FFA15A\",\"#19d3f3\",\"#FF6692\",\"#B6E880\",\"#FF97FF\",\"#FECB52\"],\"font\":{\"color\":\"#2a3f5f\"},\"geo\":{\"bgcolor\":\"white\",\"lakecolor\":\"white\",\"landcolor\":\"#E5ECF6\",\"showlakes\":true,\"showland\":true,\"subunitcolor\":\"white\"},\"hoverlabel\":{\"align\":\"left\"},\"hovermode\":\"closest\",\"mapbox\":{\"style\":\"light\"},\"paper_bgcolor\":\"white\",\"plot_bgcolor\":\"#E5ECF6\",\"polar\":{\"angularaxis\":{\"gridcolor\":\"white\",\"linecolor\":\"white\",\"ticks\":\"\"},\"bgcolor\":\"#E5ECF6\",\"radialaxis\":{\"gridcolor\":\"white\",\"linecolor\":\"white\",\"ticks\":\"\"}},\"scene\":{\"xaxis\":{\"backgroundcolor\":\"#E5ECF6\",\"gridcolor\":\"white\",\"gridwidth\":2,\"linecolor\":\"white\",\"showbackground\":true,\"ticks\":\"\",\"zerolinecolor\":\"white\"},\"yaxis\":{\"backgroundcolor\":\"#E5ECF6\",\"gridcolor\":\"white\",\"gridwidth\":2,\"linecolor\":\"white\",\"showbackground\":true,\"ticks\":\"\",\"zerolinecolor\":\"white\"},\"zaxis\":{\"backgroundcolor\":\"#E5ECF6\",\"gridcolor\":\"white\",\"gridwidth\":2,\"linecolor\":\"white\",\"showbackground\":true,\"ticks\":\"\",\"zerolinecolor\":\"white\"}},\"shapedefaults\":{\"line\":{\"color\":\"#2a3f5f\"}},\"ternary\":{\"aaxis\":{\"gridcolor\":\"white\",\"linecolor\":\"white\",\"ticks\":\"\"},\"baxis\":{\"gridcolor\":\"white\",\"linecolor\":\"white\",\"ticks\":\"\"},\"bgcolor\":\"#E5ECF6\",\"caxis\":{\"gridcolor\":\"white\",\"linecolor\":\"white\",\"ticks\":\"\"}},\"title\":{\"x\":0.05},\"xaxis\":{\"automargin\":true,\"gridcolor\":\"white\",\"linecolor\":\"white\",\"ticks\":\"\",\"title\":{\"standoff\":15},\"zerolinecolor\":\"white\",\"zerolinewidth\":2},\"yaxis\":{\"automargin\":true,\"gridcolor\":\"white\",\"linecolor\":\"white\",\"ticks\":\"\",\"title\":{\"standoff\":15},\"zerolinecolor\":\"white\",\"zerolinewidth\":2}}},\"xaxis\":{\"anchor\":\"y\",\"domain\":[0.0,1.0],\"title\":{\"text\":\"Name\"}},\"yaxis\":{\"anchor\":\"x\",\"domain\":[0.0,0.7326],\"title\":{\"text\":\"count\"}},\"xaxis2\":{\"anchor\":\"y2\",\"domain\":[0.0,1.0],\"matches\":\"x\",\"showticklabels\":false,\"showgrid\":true},\"yaxis2\":{\"anchor\":\"x2\",\"domain\":[0.7426,1.0],\"matches\":\"y2\",\"showticklabels\":false,\"showline\":false,\"ticks\":\"\",\"showgrid\":false},\"legend\":{\"title\":{\"text\":\"Sub-Sector\"},\"tracegroupgap\":0},\"margin\":{\"t\":60},\"barmode\":\"relative\"},                        {\"responsive\": true}                    ).then(function(){\n",
              "                            \n",
              "var gd = document.getElementById('693b22fb-cb95-460c-99cc-0bafe364a537');\n",
              "var x = new MutationObserver(function (mutations, observer) {{\n",
              "        var display = window.getComputedStyle(gd).display;\n",
              "        if (!display || display === 'none') {{\n",
              "            console.log([gd, 'removed!']);\n",
              "            Plotly.purge(gd);\n",
              "            observer.disconnect();\n",
              "        }}\n",
              "}});\n",
              "\n",
              "// Listen for the removal of the full notebook cells\n",
              "var notebookContainer = gd.closest('#notebook-container');\n",
              "if (notebookContainer) {{\n",
              "    x.observe(notebookContainer, {childList: true});\n",
              "}}\n",
              "\n",
              "// Listen for the clearing of the current output cell\n",
              "var outputEl = gd.closest('.output');\n",
              "if (outputEl) {{\n",
              "    x.observe(outputEl, {childList: true});\n",
              "}}\n",
              "\n",
              "                        })                };                            </script>        </div>\n",
              "</body>\n",
              "</html>"
            ]
          },
          "metadata": {}
        }
      ]
    },
    {
      "cell_type": "markdown",
      "source": [
        "Task 2 : Visualise the companies by segregating them according to Market Cap in three categories: Large Cap(>20,000 crore), Mid Cap (5,000 to 20,000 crore) & Small Cap(<5,000).\n",
        "\n",
        "Explanation : I have created 3 different lists with their values and concatenated the lists to the dataset."
      ],
      "metadata": {
        "id": "Fv-af3JSQRZ6"
      }
    },
    {
      "cell_type": "code",
      "source": [
        "#dfl = df of large cap values\n",
        "#dfm = df of medium cap values\n",
        "#dfs = df of small cap values\n",
        "\n",
        "\n",
        "dfl=df[df['Market Cap']>20000]\n",
        "dfm=df[df['Market Cap']>=5000]\n",
        "dfs=df[df['Market Cap']<5000]"
      ],
      "metadata": {
        "id": "_V0C4MDzTueA"
      },
      "execution_count": 182,
      "outputs": []
    },
    {
      "cell_type": "code",
      "source": [
        "dfl['Market cap section']='Large cap'\n",
        "dfm['Market cap section']='Medium cap'\n",
        "dfs['Market cap section']='Small cap'"
      ],
      "metadata": {
        "colab": {
          "base_uri": "https://localhost:8080/",
          "height": 0
        },
        "id": "9LPmufYuUPvm",
        "outputId": "109c685d-df7d-44ee-deb2-e87da60b4ddf"
      },
      "execution_count": 183,
      "outputs": [
        {
          "output_type": "stream",
          "name": "stderr",
          "text": [
            "/usr/local/lib/python3.7/dist-packages/ipykernel_launcher.py:1: SettingWithCopyWarning:\n",
            "\n",
            "\n",
            "A value is trying to be set on a copy of a slice from a DataFrame.\n",
            "Try using .loc[row_indexer,col_indexer] = value instead\n",
            "\n",
            "See the caveats in the documentation: https://pandas.pydata.org/pandas-docs/stable/user_guide/indexing.html#returning-a-view-versus-a-copy\n",
            "\n",
            "/usr/local/lib/python3.7/dist-packages/ipykernel_launcher.py:2: SettingWithCopyWarning:\n",
            "\n",
            "\n",
            "A value is trying to be set on a copy of a slice from a DataFrame.\n",
            "Try using .loc[row_indexer,col_indexer] = value instead\n",
            "\n",
            "See the caveats in the documentation: https://pandas.pydata.org/pandas-docs/stable/user_guide/indexing.html#returning-a-view-versus-a-copy\n",
            "\n",
            "/usr/local/lib/python3.7/dist-packages/ipykernel_launcher.py:3: SettingWithCopyWarning:\n",
            "\n",
            "\n",
            "A value is trying to be set on a copy of a slice from a DataFrame.\n",
            "Try using .loc[row_indexer,col_indexer] = value instead\n",
            "\n",
            "See the caveats in the documentation: https://pandas.pydata.org/pandas-docs/stable/user_guide/indexing.html#returning-a-view-versus-a-copy\n",
            "\n"
          ]
        }
      ]
    },
    {
      "cell_type": "code",
      "source": [
        "#concatenating the data to df dataset\n",
        "\n",
        "data = [dfl,dfm,dfs]\n",
        "df=pd.concat(data)"
      ],
      "metadata": {
        "id": "klFIN4imUeFD"
      },
      "execution_count": 185,
      "outputs": []
    },
    {
      "cell_type": "markdown",
      "source": [
        "Number of value counts of the market cap"
      ],
      "metadata": {
        "id": "ZE58FEvsQ1Q9"
      }
    },
    {
      "cell_type": "code",
      "source": [
        "dfl['Market cap section'].value_counts()"
      ],
      "metadata": {
        "colab": {
          "base_uri": "https://localhost:8080/",
          "height": 0
        },
        "id": "PohLqPEpH_jz",
        "outputId": "3517abeb-6a15-473c-bda2-8186097c0dcd"
      },
      "execution_count": 186,
      "outputs": [
        {
          "output_type": "execute_result",
          "data": {
            "text/plain": [
              "Large cap    121\n",
              "Name: Market cap section, dtype: int64"
            ]
          },
          "metadata": {},
          "execution_count": 186
        }
      ]
    },
    {
      "cell_type": "code",
      "source": [
        "dfm['Market cap section'].value_counts()"
      ],
      "metadata": {
        "colab": {
          "base_uri": "https://localhost:8080/",
          "height": 0
        },
        "id": "OJ21iia5IKPw",
        "outputId": "cbaa1289-d77e-4681-f98c-69888dd89aae"
      },
      "execution_count": 187,
      "outputs": [
        {
          "output_type": "execute_result",
          "data": {
            "text/plain": [
              "Medium cap    207\n",
              "Name: Market cap section, dtype: int64"
            ]
          },
          "metadata": {},
          "execution_count": 187
        }
      ]
    },
    {
      "cell_type": "code",
      "source": [
        "dfs['Market cap section'].value_counts()"
      ],
      "metadata": {
        "colab": {
          "base_uri": "https://localhost:8080/",
          "height": 0
        },
        "id": "abtDaNKBIKq_",
        "outputId": "d95711a2-d020-4cf6-db43-5be2553ebac1"
      },
      "execution_count": 188,
      "outputs": [
        {
          "output_type": "execute_result",
          "data": {
            "text/plain": [
              "Small cap    74\n",
              "Name: Market cap section, dtype: int64"
            ]
          },
          "metadata": {},
          "execution_count": 188
        }
      ]
    },
    {
      "cell_type": "code",
      "source": [
        "#visualising the market cap count in piechart\n",
        "\n",
        "lms= [168,352,1070]\n",
        "lmsn=['Large cap','Medium cap','Small cap']\n",
        "\n",
        "pie_colors = ['tab:orange', 'tab:cyan', 'tab:gray']\n",
        "\n",
        "name = lmsn\n",
        "sector = lms\n",
        "\n",
        "plt.pie(sector, labels=name,colors=pie_colors,autopct='%.1f%%')\n",
        "plt.show()"
      ],
      "metadata": {
        "colab": {
          "base_uri": "https://localhost:8080/",
          "height": 248
        },
        "id": "p4z3NE16IQIa",
        "outputId": "d440e24d-20fd-426a-bf57-a35a862455b0"
      },
      "execution_count": null,
      "outputs": [
        {
          "output_type": "display_data",
          "data": {
            "text/plain": [
              "<Figure size 432x288 with 1 Axes>"
            ],
            "image/png": "[encoded data removed]"
          },
          "metadata": {}
        }
      ]
    },
    {
      "cell_type": "markdown",
      "source": [
        "Task 3 : pick 10 random companies from the entire group and visualise the following through a line chart\n",
        "\n",
        "\n",
        "Find the Intrinsic Value of the company based on 3 cases of growth (g): Assume 3 Cases for g (Growth) : Good (15% Growth) ; Bad (-5% Growth); Best (25%Growth)\n",
        "\n",
        "\n",
        "Visualise these 10 companies on a line chart for all 3 cases of growth going\n",
        "forward against its current market cap.\n"
      ],
      "metadata": {
        "id": "gtiPDtLfRDP2"
      }
    },
    {
      "cell_type": "markdown",
      "source": [
        "V = (EPS * (8.5 + 2g) * 6) / Y\n",
        "\n",
        "\n",
        "V : Intrinsic Value\n",
        "\n",
        "\n",
        "EPS : The Company’s last 12 month earnings per share\n",
        "\n",
        "\n",
        "8.5 : The constant represents the appropriate P-E ratio for a no-growth\n",
        " company as proposed by Graham.\n",
        "\n",
        "\n",
        "g : The company's long-term (five years) earnings growth estimate\n",
        "\n",
        "\n",
        "6 : The average Return of FDs (6%)\n",
        "\n",
        "\n",
        "Y : The current yield on AAA corporate bonds - 7.316%"
      ],
      "metadata": {
        "id": "13d0KrDUJV-R"
      }
    },
    {
      "cell_type": "code",
      "source": [
        "rdata = df.sample(n=10)"
      ],
      "metadata": {
        "id": "QGDiWp-nRcxC"
      },
      "execution_count": 194,
      "outputs": []
    },
    {
      "cell_type": "code",
      "source": [
        "#calculating the intrinsic value in v\n",
        "\n",
        "\n",
        "rdata[\"Earnings per share\"] = pd.to_numeric(rdata[\"Earnings per share\"])\n",
        "v=  (rdata['Earnings per share'] * (8.5 + 2 * df['5Y Historical EPS growth']) * 6) / 7.316\n",
        "\n",
        "#appending the intrinsic value to the dataset with column name Intrinsic value\n",
        "\n",
        "rdata['Intrinsic value (V)'] =v\n",
        "\n",
        "#calculating the growth value using the formula \n",
        "# growth rate = (Intrinsic value / (PE Ratio * EPS)) * 100\n",
        "\n",
        "\n",
        "rdata['growth'] = (v / (rdata['PE Ratio']* rdata['Earnings per share']) )*100\n",
        "\n",
        "#determining the growth type of good, bad, best\n",
        "\n",
        "rdata['growth type'] = np.where(rdata['growth'] > 25, 'Best', (np.where(rdata['growth'] < -5, 'Bad', 'Good')))\n",
        "rdata['growth type']\n",
        "\n",
        "\n",
        "\n",
        "\n",
        "\n"
      ],
      "metadata": {
        "colab": {
          "base_uri": "https://localhost:8080/",
          "height": 0
        },
        "id": "bu9CwoJPJDUQ",
        "outputId": "d4537253-0678-439b-8abf-4a20cf377163"
      },
      "execution_count": 195,
      "outputs": [
        {
          "output_type": "execute_result",
          "data": {
            "text/plain": [
              "58     Best\n",
              "368    Best\n",
              "471    Best\n",
              "394    Good\n",
              "587    Best\n",
              "194    Best\n",
              "48     Best\n",
              "233    Best\n",
              "372    Best\n",
              "173    Good\n",
              "Name: growth type, dtype: object"
            ]
          },
          "metadata": {},
          "execution_count": 195
        }
      ]
    },
    {
      "cell_type": "code",
      "source": [
        "#visualising the growth type for 10 random companies using line chart\n",
        "\n",
        "fig = px.line(rdata, x='Name', y='growth type', title='Growth of companies')\n",
        "fig.show()"
      ],
      "metadata": {
        "colab": {
          "base_uri": "https://localhost:8080/",
          "height": 542
        },
        "id": "BzoLt83QI0gR",
        "outputId": "7c0d602e-caaa-486d-bbbd-52a6381b4e69"
      },
      "execution_count": 172,
      "outputs": [
        {
          "output_type": "display_data",
          "data": {
            "text/html": [
              "<html>\n",
              "<head><meta charset=\"utf-8\" /></head>\n",
              "<body>\n",
              "    <div>            <script src=\"https://cdnjs.cloudflare.com/ajax/libs/mathjax/2.7.5/MathJax.js?config=TeX-AMS-MML_SVG\"></script><script type=\"text/javascript\">if (window.MathJax) {MathJax.Hub.Config({SVG: {font: \"STIX-Web\"}});}</script>                <script type=\"text/javascript\">window.PlotlyConfig = {MathJaxConfig: 'local'};</script>\n",
              "        <script src=\"https://cdn.plot.ly/plotly-2.8.3.min.js\"></script>                <div id=\"224fccc6-770d-4a2d-87dd-2c3e9c1f7462\" class=\"plotly-graph-div\" style=\"height:525px; width:100%;\"></div>            <script type=\"text/javascript\">                                    window.PLOTLYENV=window.PLOTLYENV || {};                                    if (document.getElementById(\"224fccc6-770d-4a2d-87dd-2c3e9c1f7462\")) {                    Plotly.newPlot(                        \"224fccc6-770d-4a2d-87dd-2c3e9c1f7462\",                        [{\"hovertemplate\":\"Name=%{x}<br>growth type=%{y}<extra></extra>\",\"legendgroup\":\"\",\"line\":{\"color\":\"#636efa\",\"dash\":\"solid\"},\"marker\":{\"symbol\":\"circle\"},\"mode\":\"lines\",\"name\":\"\",\"orientation\":\"v\",\"showlegend\":false,\"x\":[\"Adani Enterprises Ltd\",\"NRB Bearings Ltd\",\"Sun Tv Network Ltd\",\"Blue Dart Express Ltd\",\"Supreme Industries Ltd\",\"Hindustan Zinc Ltd\",\"Vesuvius India Ltd\",\"Zydus Wellness Ltd\",\"Bharat Petroleum Corporation Ltd\",\"Transport Corporation of India Ltd\"],\"xaxis\":\"x\",\"y\":[\"Good\",\"Best\",\"Best\",\"Bad\",\"Best\",\"Best\",\"Bad\",\"Good\",\"Best\",\"Best\"],\"yaxis\":\"y\",\"type\":\"scatter\"}],                        {\"template\":{\"data\":{\"bar\":[{\"error_x\":{\"color\":\"#2a3f5f\"},\"error_y\":{\"color\":\"#2a3f5f\"},\"marker\":{\"line\":{\"color\":\"#E5ECF6\",\"width\":0.5},\"pattern\":{\"fillmode\":\"overlay\",\"size\":10,\"solidity\":0.2}},\"type\":\"bar\"}],\"barpolar\":[{\"marker\":{\"line\":{\"color\":\"#E5ECF6\",\"width\":0.5},\"pattern\":{\"fillmode\":\"overlay\",\"size\":10,\"solidity\":0.2}},\"type\":\"barpolar\"}],\"carpet\":[{\"aaxis\":{\"endlinecolor\":\"#2a3f5f\",\"gridcolor\":\"white\",\"linecolor\":\"white\",\"minorgridcolor\":\"white\",\"startlinecolor\":\"#2a3f5f\"},\"baxis\":{\"endlinecolor\":\"#2a3f5f\",\"gridcolor\":\"white\",\"linecolor\":\"white\",\"minorgridcolor\":\"white\",\"startlinecolor\":\"#2a3f5f\"},\"type\":\"carpet\"}],\"choropleth\":[{\"colorbar\":{\"outlinewidth\":0,\"ticks\":\"\"},\"type\":\"choropleth\"}],\"contour\":[{\"colorbar\":{\"outlinewidth\":0,\"ticks\":\"\"},\"colorscale\":[[0.0,\"#0d0887\"],[0.1111111111111111,\"#46039f\"],[0.2222222222222222,\"#7201a8\"],[0.3333333333333333,\"#9c179e\"],[0.4444444444444444,\"#bd3786\"],[0.5555555555555556,\"#d8576b\"],[0.6666666666666666,\"#ed7953\"],[0.7777777777777778,\"#fb9f3a\"],[0.8888888888888888,\"#fdca26\"],[1.0,\"#f0f921\"]],\"type\":\"contour\"}],\"contourcarpet\":[{\"colorbar\":{\"outlinewidth\":0,\"ticks\":\"\"},\"type\":\"contourcarpet\"}],\"heatmap\":[{\"colorbar\":{\"outlinewidth\":0,\"ticks\":\"\"},\"colorscale\":[[0.0,\"#0d0887\"],[0.1111111111111111,\"#46039f\"],[0.2222222222222222,\"#7201a8\"],[0.3333333333333333,\"#9c179e\"],[0.4444444444444444,\"#bd3786\"],[0.5555555555555556,\"#d8576b\"],[0.6666666666666666,\"#ed7953\"],[0.7777777777777778,\"#fb9f3a\"],[0.8888888888888888,\"#fdca26\"],[1.0,\"#f0f921\"]],\"type\":\"heatmap\"}],\"heatmapgl\":[{\"colorbar\":{\"outlinewidth\":0,\"ticks\":\"\"},\"colorscale\":[[0.0,\"#0d0887\"],[0.1111111111111111,\"#46039f\"],[0.2222222222222222,\"#7201a8\"],[0.3333333333333333,\"#9c179e\"],[0.4444444444444444,\"#bd3786\"],[0.5555555555555556,\"#d8576b\"],[0.6666666666666666,\"#ed7953\"],[0.7777777777777778,\"#fb9f3a\"],[0.8888888888888888,\"#fdca26\"],[1.0,\"#f0f921\"]],\"type\":\"heatmapgl\"}],\"histogram\":[{\"marker\":{\"pattern\":{\"fillmode\":\"overlay\",\"size\":10,\"solidity\":0.2}},\"type\":\"histogram\"}],\"histogram2d\":[{\"colorbar\":{\"outlinewidth\":0,\"ticks\":\"\"},\"colorscale\":[[0.0,\"#0d0887\"],[0.1111111111111111,\"#46039f\"],[0.2222222222222222,\"#7201a8\"],[0.3333333333333333,\"#9c179e\"],[0.4444444444444444,\"#bd3786\"],[0.5555555555555556,\"#d8576b\"],[0.6666666666666666,\"#ed7953\"],[0.7777777777777778,\"#fb9f3a\"],[0.8888888888888888,\"#fdca26\"],[1.0,\"#f0f921\"]],\"type\":\"histogram2d\"}],\"histogram2dcontour\":[{\"colorbar\":{\"outlinewidth\":0,\"ticks\":\"\"},\"colorscale\":[[0.0,\"#0d0887\"],[0.1111111111111111,\"#46039f\"],[0.2222222222222222,\"#7201a8\"],[0.3333333333333333,\"#9c179e\"],[0.4444444444444444,\"#bd3786\"],[0.5555555555555556,\"#d8576b\"],[0.6666666666666666,\"#ed7953\"],[0.7777777777777778,\"#fb9f3a\"],[0.8888888888888888,\"#fdca26\"],[1.0,\"#f0f921\"]],\"type\":\"histogram2dcontour\"}],\"mesh3d\":[{\"colorbar\":{\"outlinewidth\":0,\"ticks\":\"\"},\"type\":\"mesh3d\"}],\"parcoords\":[{\"line\":{\"colorbar\":{\"outlinewidth\":0,\"ticks\":\"\"}},\"type\":\"parcoords\"}],\"pie\":[{\"automargin\":true,\"type\":\"pie\"}],\"scatter\":[{\"marker\":{\"colorbar\":{\"outlinewidth\":0,\"ticks\":\"\"}},\"type\":\"scatter\"}],\"scatter3d\":[{\"line\":{\"colorbar\":{\"outlinewidth\":0,\"ticks\":\"\"}},\"marker\":{\"colorbar\":{\"outlinewidth\":0,\"ticks\":\"\"}},\"type\":\"scatter3d\"}],\"scattercarpet\":[{\"marker\":{\"colorbar\":{\"outlinewidth\":0,\"ticks\":\"\"}},\"type\":\"scattercarpet\"}],\"scattergeo\":[{\"marker\":{\"colorbar\":{\"outlinewidth\":0,\"ticks\":\"\"}},\"type\":\"scattergeo\"}],\"scattergl\":[{\"marker\":{\"colorbar\":{\"outlinewidth\":0,\"ticks\":\"\"}},\"type\":\"scattergl\"}],\"scattermapbox\":[{\"marker\":{\"colorbar\":{\"outlinewidth\":0,\"ticks\":\"\"}},\"type\":\"scattermapbox\"}],\"scatterpolar\":[{\"marker\":{\"colorbar\":{\"outlinewidth\":0,\"ticks\":\"\"}},\"type\":\"scatterpolar\"}],\"scatterpolargl\":[{\"marker\":{\"colorbar\":{\"outlinewidth\":0,\"ticks\":\"\"}},\"type\":\"scatterpolargl\"}],\"scatterternary\":[{\"marker\":{\"colorbar\":{\"outlinewidth\":0,\"ticks\":\"\"}},\"type\":\"scatterternary\"}],\"surface\":[{\"colorbar\":{\"outlinewidth\":0,\"ticks\":\"\"},\"colorscale\":[[0.0,\"#0d0887\"],[0.1111111111111111,\"#46039f\"],[0.2222222222222222,\"#7201a8\"],[0.3333333333333333,\"#9c179e\"],[0.4444444444444444,\"#bd3786\"],[0.5555555555555556,\"#d8576b\"],[0.6666666666666666,\"#ed7953\"],[0.7777777777777778,\"#fb9f3a\"],[0.8888888888888888,\"#fdca26\"],[1.0,\"#f0f921\"]],\"type\":\"surface\"}],\"table\":[{\"cells\":{\"fill\":{\"color\":\"#EBF0F8\"},\"line\":{\"color\":\"white\"}},\"header\":{\"fill\":{\"color\":\"#C8D4E3\"},\"line\":{\"color\":\"white\"}},\"type\":\"table\"}]},\"layout\":{\"annotationdefaults\":{\"arrowcolor\":\"#2a3f5f\",\"arrowhead\":0,\"arrowwidth\":1},\"autotypenumbers\":\"strict\",\"coloraxis\":{\"colorbar\":{\"outlinewidth\":0,\"ticks\":\"\"}},\"colorscale\":{\"diverging\":[[0,\"#8e0152\"],[0.1,\"#c51b7d\"],[0.2,\"#de77ae\"],[0.3,\"#f1b6da\"],[0.4,\"#fde0ef\"],[0.5,\"#f7f7f7\"],[0.6,\"#e6f5d0\"],[0.7,\"#b8e186\"],[0.8,\"#7fbc41\"],[0.9,\"#4d9221\"],[1,\"#276419\"]],\"sequential\":[[0.0,\"#0d0887\"],[0.1111111111111111,\"#46039f\"],[0.2222222222222222,\"#7201a8\"],[0.3333333333333333,\"#9c179e\"],[0.4444444444444444,\"#bd3786\"],[0.5555555555555556,\"#d8576b\"],[0.6666666666666666,\"#ed7953\"],[0.7777777777777778,\"#fb9f3a\"],[0.8888888888888888,\"#fdca26\"],[1.0,\"#f0f921\"]],\"sequentialminus\":[[0.0,\"#0d0887\"],[0.1111111111111111,\"#46039f\"],[0.2222222222222222,\"#7201a8\"],[0.3333333333333333,\"#9c179e\"],[0.4444444444444444,\"#bd3786\"],[0.5555555555555556,\"#d8576b\"],[0.6666666666666666,\"#ed7953\"],[0.7777777777777778,\"#fb9f3a\"],[0.8888888888888888,\"#fdca26\"],[1.0,\"#f0f921\"]]},\"colorway\":[\"#636efa\",\"#EF553B\",\"#00cc96\",\"#ab63fa\",\"#FFA15A\",\"#19d3f3\",\"#FF6692\",\"#B6E880\",\"#FF97FF\",\"#FECB52\"],\"font\":{\"color\":\"#2a3f5f\"},\"geo\":{\"bgcolor\":\"white\",\"lakecolor\":\"white\",\"landcolor\":\"#E5ECF6\",\"showlakes\":true,\"showland\":true,\"subunitcolor\":\"white\"},\"hoverlabel\":{\"align\":\"left\"},\"hovermode\":\"closest\",\"mapbox\":{\"style\":\"light\"},\"paper_bgcolor\":\"white\",\"plot_bgcolor\":\"#E5ECF6\",\"polar\":{\"angularaxis\":{\"gridcolor\":\"white\",\"linecolor\":\"white\",\"ticks\":\"\"},\"bgcolor\":\"#E5ECF6\",\"radialaxis\":{\"gridcolor\":\"white\",\"linecolor\":\"white\",\"ticks\":\"\"}},\"scene\":{\"xaxis\":{\"backgroundcolor\":\"#E5ECF6\",\"gridcolor\":\"white\",\"gridwidth\":2,\"linecolor\":\"white\",\"showbackground\":true,\"ticks\":\"\",\"zerolinecolor\":\"white\"},\"yaxis\":{\"backgroundcolor\":\"#E5ECF6\",\"gridcolor\":\"white\",\"gridwidth\":2,\"linecolor\":\"white\",\"showbackground\":true,\"ticks\":\"\",\"zerolinecolor\":\"white\"},\"zaxis\":{\"backgroundcolor\":\"#E5ECF6\",\"gridcolor\":\"white\",\"gridwidth\":2,\"linecolor\":\"white\",\"showbackground\":true,\"ticks\":\"\",\"zerolinecolor\":\"white\"}},\"shapedefaults\":{\"line\":{\"color\":\"#2a3f5f\"}},\"ternary\":{\"aaxis\":{\"gridcolor\":\"white\",\"linecolor\":\"white\",\"ticks\":\"\"},\"baxis\":{\"gridcolor\":\"white\",\"linecolor\":\"white\",\"ticks\":\"\"},\"bgcolor\":\"#E5ECF6\",\"caxis\":{\"gridcolor\":\"white\",\"linecolor\":\"white\",\"ticks\":\"\"}},\"title\":{\"x\":0.05},\"xaxis\":{\"automargin\":true,\"gridcolor\":\"white\",\"linecolor\":\"white\",\"ticks\":\"\",\"title\":{\"standoff\":15},\"zerolinecolor\":\"white\",\"zerolinewidth\":2},\"yaxis\":{\"automargin\":true,\"gridcolor\":\"white\",\"linecolor\":\"white\",\"ticks\":\"\",\"title\":{\"standoff\":15},\"zerolinecolor\":\"white\",\"zerolinewidth\":2}}},\"xaxis\":{\"anchor\":\"y\",\"domain\":[0.0,1.0],\"title\":{\"text\":\"Name\"}},\"yaxis\":{\"anchor\":\"x\",\"domain\":[0.0,1.0],\"title\":{\"text\":\"growth type\"}},\"legend\":{\"tracegroupgap\":0},\"title\":{\"text\":\"Growth of companies\"}},                        {\"responsive\": true}                    ).then(function(){\n",
              "                            \n",
              "var gd = document.getElementById('224fccc6-770d-4a2d-87dd-2c3e9c1f7462');\n",
              "var x = new MutationObserver(function (mutations, observer) {{\n",
              "        var display = window.getComputedStyle(gd).display;\n",
              "        if (!display || display === 'none') {{\n",
              "            console.log([gd, 'removed!']);\n",
              "            Plotly.purge(gd);\n",
              "            observer.disconnect();\n",
              "        }}\n",
              "}});\n",
              "\n",
              "// Listen for the removal of the full notebook cells\n",
              "var notebookContainer = gd.closest('#notebook-container');\n",
              "if (notebookContainer) {{\n",
              "    x.observe(notebookContainer, {childList: true});\n",
              "}}\n",
              "\n",
              "// Listen for the clearing of the current output cell\n",
              "var outputEl = gd.closest('.output');\n",
              "if (outputEl) {{\n",
              "    x.observe(outputEl, {childList: true});\n",
              "}}\n",
              "\n",
              "                        })                };                            </script>        </div>\n",
              "</body>\n",
              "</html>"
            ]
          },
          "metadata": {}
        }
      ]
    },
    {
      "cell_type": "markdown",
      "source": [
        "Thank you.  It was fun working with this dataset."
      ],
      "metadata": {
        "id": "U8Qi1apjSaYd"
      }
    }
  ]
}